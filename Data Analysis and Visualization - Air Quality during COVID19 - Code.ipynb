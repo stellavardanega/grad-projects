{
  "nbformat": 4,
  "nbformat_minor": 5,
  "metadata": {
    "environment": {
      "name": "common-cpu.m78",
      "type": "gcloud",
      "uri": "gcr.io/deeplearning-platform-release/base-cpu:m78"
    },
    "kernelspec": {
      "display_name": "Python 3",
      "language": "python",
      "name": "python3"
    },
    "language_info": {
      "codemirror_mode": {
        "name": "ipython",
        "version": 3
      },
      "file_extension": ".py",
      "mimetype": "text/x-python",
      "name": "python",
      "nbconvert_exporter": "python",
      "pygments_lexer": "ipython3",
      "version": "3.7.10"
    },
    "colab": {
      "name": "Analyzing-Air-Quality-During-COVID19-Pandemic.ipynb",
      "provenance": []
    }
  },
  "cells": [
    {
      "cell_type": "markdown",
      "metadata": {
        "id": "2b6bcd7e"
      },
      "source": [
        "# Was Air Quality Affected in Countries or Regions Where COVID-19 was Most Prevalent?\n",
        "**By: Arpit Jain, Maria Stella Vardanega, Tingting Cao, Christopher Chang, Mona Ma, Fusu Luo**"
      ],
      "id": "2b6bcd7e"
    },
    {
      "cell_type": "markdown",
      "metadata": {
        "id": "8d92a89d"
      },
      "source": [
        "---"
      ],
      "id": "8d92a89d"
    },
    {
      "cell_type": "markdown",
      "metadata": {
        "id": "4b188469"
      },
      "source": [
        "## Outline \n",
        "\n",
        "#### I. Problem Definition & Data Source Description \n",
        "\n",
        "      1. Project Objectives \n",
        "      2. Data Source\n",
        "      3. Dataset Preview\n",
        "\n",
        "#### II. What are the most prevalent pollutants? \n",
        "\n",
        "#### III. What were the pollutant levels in 2019 and 2020 globally, and their averages?\n",
        "\n",
        "      1. Selecting Data from 2019 and 2020 with air pollutant information\n",
        "      2. Monthly Air Pollutant Data from 2019 \n",
        "      3. Monthly Air Pollutant Data from 2020 \n",
        "\n",
        "#### IV: What cities had the highest changes in pollutant air quality index during COVID-19?\n",
        "\n",
        "      1. 10 cities with most air quality index reduction for each pollutant \n",
        "      2. Cities with more than 50 percent AQI decrease and 50 AQI decrease for each air pollutants\n",
        "\n",
        "#### V: Regression analysis on COVID-19 cases and pollutant Air Quality Index Globally\n",
        "\n",
        "#### VI: When were lockdowns implemented for each country?\n",
        "\n",
        "#### VII: How did Air Quality change in countries with low COVID-19 cases (NZ, AUS, TW) and high COVID-19 cases (US, IT,CN)?\n",
        "      1. Countries with high COVID cases\n",
        "      2. Countries with low COVID cases\n",
        "\n",
        "#### VIII: Conclusion\n",
        "\n",
        "#### IX: Public Tableau Dashboards"
      ],
      "id": "4b188469"
    },
    {
      "cell_type": "markdown",
      "metadata": {
        "id": "08556ffc"
      },
      "source": [
        "---"
      ],
      "id": "08556ffc"
    },
    {
      "cell_type": "markdown",
      "metadata": {
        "id": "e75297dc"
      },
      "source": [
        "## I. Problem Definition & Data Source Description"
      ],
      "id": "e75297dc"
    },
    {
      "cell_type": "markdown",
      "metadata": {
        "id": "6b62d4a8"
      },
      "source": [
        "#### 1. Project Objectives"
      ],
      "id": "6b62d4a8"
    },
    {
      "cell_type": "markdown",
      "metadata": {
        "id": "c8ace9b5"
      },
      "source": [
        "Air pollution, as one of the most serious environmental problems confronting our civilization, is the presence of toxic gases and particles in the air at levels that pose adverse effects on global climate and lead to public health risk and disease. Exposure to elevated levels of air pollutants has been implicated in a diverse set of medical conditions including cardiovascular and respiratory mortality, lung cancer and autism. \n",
        "\n",
        "Air pollutants come from natural sources such as wildfires and volcanoes, as well as are highly related to human activities from mobile sources (such as cars, buses and planes) or stationary sources (such as industrial factories, power plants and wood burning fireplaces). However, in the past year, the COVID-19 pandemic has caused unprecedented changes to the our work, study and daily activities, subsequently led to major reductions in air pollutant emissions. And our team would like take this opportunity to examine the air quality in the past two years and look on how the air quality was impacted in countries and cities where the corona-virus was prevalent."
      ],
      "id": "c8ace9b5"
    },
    {
      "cell_type": "markdown",
      "metadata": {
        "id": "a88caf98"
      },
      "source": [
        "#### 2. Data Source"
      ],
      "id": "a88caf98"
    },
    {
      "cell_type": "markdown",
      "metadata": {
        "id": "b66e1033"
      },
      "source": [
        "**Data Source Description:** In this project, we downloaded worldwide air quality data for Year 2019 and 2020 from the Air Quality Open Data Platform (https://aqicn.org/data-platform/covid19/), which provides historical air quality index and meteorological data for more than 380 major cities across the world. We used air quality index data in 2019 as baseline to find the air quality changes during COVID in 2020. In addition we joined the data with geographic location information from https://aqicn.org/data-platform/covid19/airquality-covid19-cities.json to get air quality index for each pollutant at city-level. According to the data source provider, the data for each major cities is based on the average (median) of several stations. The data set provides min, max, median and standard deviation for each of the air pollutant species in the form of Air Quality Index (AQI) that are converted from raw concentration based on the US Environmental Protection Agency (EPA) standard."
      ],
      "id": "b66e1033"
    },
    {
      "cell_type": "markdown",
      "metadata": {
        "id": "8ec96083"
      },
      "source": [
        "The United States EPA list the following as the criteria at this website (https://www.epa.gov/criteria-air-pollutants/naaqs-table): Carbon Monoxide (CO), Nitrogen Dioxide (NO2), Ozone (O3), Particle Pollution (PM2.5) + (PM10), and finally Sulfur Dioxide (SO2). For the particle pollution the numbers stand for the size of the particles. PM2.5 means particles that are 2.5 micrometers and smaller, while PM10 means particles that are 10 micrometers and smaller. https://www.epa.gov/pm-pollution/particulate-matter-pm-basics. Particle Pollution typically includes Dust, Dirt, and Smoke. Our dataset covers most of the criteria pollutants (PM2.5, PM10, Ozone, SO2, NO2 and CO), and meteorological parameters such as temperature, wind speed, dew point, relative humidity. Air quality index basics are shown in the figure below. "
      ],
      "id": "8ec96083"
    },
    {
      "cell_type": "markdown",
      "metadata": {
        "id": "1f81cc23"
      },
      "source": [
        "<img src=\"https://github.com/ttcao63/775team_project_b2_t2/blob/main/AQI%20basics.PNG?raw=true\" align=\"center\"/>"
      ],
      "id": "1f81cc23"
    },
    {
      "cell_type": "markdown",
      "metadata": {
        "id": "49933caf"
      },
      "source": [
        "(source: https://www.airnow.gov/aqi/aqi-basics/)"
      ],
      "id": "49933caf"
    },
    {
      "cell_type": "markdown",
      "metadata": {
        "id": "05004d21"
      },
      "source": [
        "#### 3. Preview of the Dataset"
      ],
      "id": "05004d21"
    },
    {
      "cell_type": "code",
      "metadata": {
        "id": "69307d42",
        "outputId": "13df4262-91df-4f21-ab28-a12dd480c422"
      },
      "source": [
        "%%bigquery\n",
        "SELECT * FROM `ba775-team2-b2.AQICN.air_quality_data` LIMIT 10"
      ],
      "id": "69307d42",
      "execution_count": null,
      "outputs": [
        {
          "name": "stderr",
          "output_type": "stream",
          "text": [
            "Query complete after 0.00s: 100%|██████████| 1/1 [00:00<00:00, 485.85query/s]                          \n",
            "Downloading: 100%|██████████| 10/10 [00:01<00:00,  6.05rows/s]\n"
          ]
        },
        {
          "data": {
            "text/html": [
              "<div>\n",
              "<style scoped>\n",
              "    .dataframe tbody tr th:only-of-type {\n",
              "        vertical-align: middle;\n",
              "    }\n",
              "\n",
              "    .dataframe tbody tr th {\n",
              "        vertical-align: top;\n",
              "    }\n",
              "\n",
              "    .dataframe thead th {\n",
              "        text-align: right;\n",
              "    }\n",
              "</style>\n",
              "<table border=\"1\" class=\"dataframe\">\n",
              "  <thead>\n",
              "    <tr style=\"text-align: right;\">\n",
              "      <th></th>\n",
              "      <th>Date</th>\n",
              "      <th>Country</th>\n",
              "      <th>City</th>\n",
              "      <th>lat</th>\n",
              "      <th>lon</th>\n",
              "      <th>pop</th>\n",
              "      <th>Parameter</th>\n",
              "      <th>count</th>\n",
              "      <th>min</th>\n",
              "      <th>max</th>\n",
              "      <th>median</th>\n",
              "      <th>variance</th>\n",
              "    </tr>\n",
              "  </thead>\n",
              "  <tbody>\n",
              "    <tr>\n",
              "      <th>0</th>\n",
              "      <td>2020-07-08</td>\n",
              "      <td>NP</td>\n",
              "      <td>Biratnagar</td>\n",
              "      <td>26.45505</td>\n",
              "      <td>87.27007</td>\n",
              "      <td>182324</td>\n",
              "      <td>pm1</td>\n",
              "      <td>16</td>\n",
              "      <td>18.0</td>\n",
              "      <td>198.0</td>\n",
              "      <td>27.0</td>\n",
              "      <td>18671.30</td>\n",
              "    </tr>\n",
              "    <tr>\n",
              "      <th>1</th>\n",
              "      <td>2020-02-10</td>\n",
              "      <td>HK</td>\n",
              "      <td>Hong Kong</td>\n",
              "      <td>22.27832</td>\n",
              "      <td>114.17469</td>\n",
              "      <td>7012738</td>\n",
              "      <td>uvi</td>\n",
              "      <td>165</td>\n",
              "      <td>0.1</td>\n",
              "      <td>2.5</td>\n",
              "      <td>0.9</td>\n",
              "      <td>9.49</td>\n",
              "    </tr>\n",
              "    <tr>\n",
              "      <th>2</th>\n",
              "      <td>2020-08-24</td>\n",
              "      <td>HK</td>\n",
              "      <td>Hong Kong</td>\n",
              "      <td>22.27832</td>\n",
              "      <td>114.17469</td>\n",
              "      <td>7012738</td>\n",
              "      <td>uvi</td>\n",
              "      <td>195</td>\n",
              "      <td>0.1</td>\n",
              "      <td>10.0</td>\n",
              "      <td>3.7</td>\n",
              "      <td>130.76</td>\n",
              "    </tr>\n",
              "    <tr>\n",
              "      <th>3</th>\n",
              "      <td>2020-06-26</td>\n",
              "      <td>NP</td>\n",
              "      <td>Kathmandu</td>\n",
              "      <td>27.70169</td>\n",
              "      <td>85.32060</td>\n",
              "      <td>1442271</td>\n",
              "      <td>pm1</td>\n",
              "      <td>85</td>\n",
              "      <td>8.0</td>\n",
              "      <td>58.0</td>\n",
              "      <td>25.0</td>\n",
              "      <td>1556.39</td>\n",
              "    </tr>\n",
              "    <tr>\n",
              "      <th>4</th>\n",
              "      <td>2020-09-28</td>\n",
              "      <td>NP</td>\n",
              "      <td>Kathmandu</td>\n",
              "      <td>27.70169</td>\n",
              "      <td>85.32060</td>\n",
              "      <td>1442271</td>\n",
              "      <td>pm1</td>\n",
              "      <td>90</td>\n",
              "      <td>22.0</td>\n",
              "      <td>96.0</td>\n",
              "      <td>56.0</td>\n",
              "      <td>2270.48</td>\n",
              "    </tr>\n",
              "    <tr>\n",
              "      <th>5</th>\n",
              "      <td>2020-02-25</td>\n",
              "      <td>HK</td>\n",
              "      <td>Hong Kong</td>\n",
              "      <td>22.27832</td>\n",
              "      <td>114.17469</td>\n",
              "      <td>7012738</td>\n",
              "      <td>uvi</td>\n",
              "      <td>180</td>\n",
              "      <td>0.1</td>\n",
              "      <td>7.7</td>\n",
              "      <td>1.5</td>\n",
              "      <td>60.24</td>\n",
              "    </tr>\n",
              "    <tr>\n",
              "      <th>6</th>\n",
              "      <td>2020-03-15</td>\n",
              "      <td>PR</td>\n",
              "      <td>San Juan</td>\n",
              "      <td>18.46633</td>\n",
              "      <td>-66.10572</td>\n",
              "      <td>418140</td>\n",
              "      <td>aqi</td>\n",
              "      <td>2</td>\n",
              "      <td>22.0</td>\n",
              "      <td>22.0</td>\n",
              "      <td>22.0</td>\n",
              "      <td>0.00</td>\n",
              "    </tr>\n",
              "    <tr>\n",
              "      <th>7</th>\n",
              "      <td>2020-06-09</td>\n",
              "      <td>MO</td>\n",
              "      <td>Macau</td>\n",
              "      <td>22.20056</td>\n",
              "      <td>113.54611</td>\n",
              "      <td>520400</td>\n",
              "      <td>uvi</td>\n",
              "      <td>54</td>\n",
              "      <td>-1.0</td>\n",
              "      <td>-1.0</td>\n",
              "      <td>-1.0</td>\n",
              "      <td>0.00</td>\n",
              "    </tr>\n",
              "    <tr>\n",
              "      <th>8</th>\n",
              "      <td>2019-11-13</td>\n",
              "      <td>NP</td>\n",
              "      <td>Biratnagar</td>\n",
              "      <td>26.45505</td>\n",
              "      <td>87.27007</td>\n",
              "      <td>182324</td>\n",
              "      <td>pm1</td>\n",
              "      <td>10</td>\n",
              "      <td>45.0</td>\n",
              "      <td>153.0</td>\n",
              "      <td>53.0</td>\n",
              "      <td>18409.30</td>\n",
              "    </tr>\n",
              "    <tr>\n",
              "      <th>9</th>\n",
              "      <td>2019-01-10</td>\n",
              "      <td>HK</td>\n",
              "      <td>Hong Kong</td>\n",
              "      <td>22.27832</td>\n",
              "      <td>114.17469</td>\n",
              "      <td>7012738</td>\n",
              "      <td>uvi</td>\n",
              "      <td>140</td>\n",
              "      <td>0.1</td>\n",
              "      <td>4.0</td>\n",
              "      <td>1.0</td>\n",
              "      <td>15.39</td>\n",
              "    </tr>\n",
              "  </tbody>\n",
              "</table>\n",
              "</div>"
            ],
            "text/plain": [
              "         Date Country        City       lat        lon      pop Parameter  \\\n",
              "0  2020-07-08      NP  Biratnagar  26.45505   87.27007   182324       pm1   \n",
              "1  2020-02-10      HK   Hong Kong  22.27832  114.17469  7012738       uvi   \n",
              "2  2020-08-24      HK   Hong Kong  22.27832  114.17469  7012738       uvi   \n",
              "3  2020-06-26      NP   Kathmandu  27.70169   85.32060  1442271       pm1   \n",
              "4  2020-09-28      NP   Kathmandu  27.70169   85.32060  1442271       pm1   \n",
              "5  2020-02-25      HK   Hong Kong  22.27832  114.17469  7012738       uvi   \n",
              "6  2020-03-15      PR    San Juan  18.46633  -66.10572   418140       aqi   \n",
              "7  2020-06-09      MO       Macau  22.20056  113.54611   520400       uvi   \n",
              "8  2019-11-13      NP  Biratnagar  26.45505   87.27007   182324       pm1   \n",
              "9  2019-01-10      HK   Hong Kong  22.27832  114.17469  7012738       uvi   \n",
              "\n",
              "   count   min    max  median  variance  \n",
              "0     16  18.0  198.0    27.0  18671.30  \n",
              "1    165   0.1    2.5     0.9      9.49  \n",
              "2    195   0.1   10.0     3.7    130.76  \n",
              "3     85   8.0   58.0    25.0   1556.39  \n",
              "4     90  22.0   96.0    56.0   2270.48  \n",
              "5    180   0.1    7.7     1.5     60.24  \n",
              "6      2  22.0   22.0    22.0      0.00  \n",
              "7     54  -1.0   -1.0    -1.0      0.00  \n",
              "8     10  45.0  153.0    53.0  18409.30  \n",
              "9    140   0.1    4.0     1.0     15.39  "
            ]
          },
          "execution_count": 2,
          "metadata": {},
          "output_type": "execute_result"
        }
      ]
    },
    {
      "cell_type": "markdown",
      "metadata": {
        "id": "e08be3eb"
      },
      "source": [
        "---\n",
        "### II. What are the most prevalent pollutants?\n",
        "\n",
        "This question focuses on the prevalence of the pollutants. From the dataset, the prevalence can be defined geographically from the cities and countries that had recorded the parameters detected times. \n",
        "\n",
        "To find the prevalence, our team selected the parameters from situations in how many distinct cities and countries detected the parameter appeared. "
      ],
      "id": "e08be3eb"
    },
    {
      "cell_type": "code",
      "metadata": {
        "id": "4601a330",
        "outputId": "bba62659-a873-44b8-c6eb-6c95a0d607ea"
      },
      "source": [
        "%%bigquery\n",
        "SELECT \n",
        "Parameter,COUNT(distinct(City)) AS number_of_city,\n",
        "COUNT(distinct(Country)) AS number_of_country,string_agg(distinct(Country)) AS list_country\n",
        "FROM `ba775-team2-b2.AQICN.air_quality_data`\n",
        "GROUP BY Parameter\n",
        "ORDER BY number_of_city DESC"
      ],
      "id": "4601a330",
      "execution_count": null,
      "outputs": [
        {
          "name": "stderr",
          "output_type": "stream",
          "text": [
            "Query complete after 0.00s: 100%|██████████| 1/1 [00:00<00:00, 918.39query/s] \n",
            "Downloading: 100%|██████████| 20/20 [00:01<00:00, 13.28rows/s]\n"
          ]
        },
        {
          "data": {
            "text/html": [
              "<div>\n",
              "<style scoped>\n",
              "    .dataframe tbody tr th:only-of-type {\n",
              "        vertical-align: middle;\n",
              "    }\n",
              "\n",
              "    .dataframe tbody tr th {\n",
              "        vertical-align: top;\n",
              "    }\n",
              "\n",
              "    .dataframe thead th {\n",
              "        text-align: right;\n",
              "    }\n",
              "</style>\n",
              "<table border=\"1\" class=\"dataframe\">\n",
              "  <thead>\n",
              "    <tr style=\"text-align: right;\">\n",
              "      <th></th>\n",
              "      <th>Parameter</th>\n",
              "      <th>number_of_city</th>\n",
              "      <th>number_of_country</th>\n",
              "      <th>list_country</th>\n",
              "    </tr>\n",
              "  </thead>\n",
              "  <tbody>\n",
              "    <tr>\n",
              "      <th>0</th>\n",
              "      <td>humidity</td>\n",
              "      <td>615</td>\n",
              "      <td>95</td>\n",
              "      <td>PE,EC,CO,AR,HR,HK,BG,PH,JO,IE,BR,ET,LA,NP,PT,G...</td>\n",
              "    </tr>\n",
              "    <tr>\n",
              "      <th>1</th>\n",
              "      <td>temperature</td>\n",
              "      <td>615</td>\n",
              "      <td>95</td>\n",
              "      <td>JO,UG,PH,HK,NP,MN,GR,RE,AR,BR,GN,DZ,CR,GE,CO,P...</td>\n",
              "    </tr>\n",
              "    <tr>\n",
              "      <th>2</th>\n",
              "      <td>pressure</td>\n",
              "      <td>614</td>\n",
              "      <td>95</td>\n",
              "      <td>BR,HK,PE,EC,GN,MN,ID,GR,CO,CH,PT,PR,PK,NP,PH,L...</td>\n",
              "    </tr>\n",
              "    <tr>\n",
              "      <th>3</th>\n",
              "      <td>wind-speed</td>\n",
              "      <td>613</td>\n",
              "      <td>95</td>\n",
              "      <td>SV,PH,AR,SG,ML,MK,RE,LA,BG,EE,JO,CO,CH,SK,BR,I...</td>\n",
              "    </tr>\n",
              "    <tr>\n",
              "      <th>4</th>\n",
              "      <td>wind-gust</td>\n",
              "      <td>586</td>\n",
              "      <td>90</td>\n",
              "      <td>BR,AE,RE,HR,EE,AR,ID,KG,JO,LK,SG,PT,IS,HK,TJ,S...</td>\n",
              "    </tr>\n",
              "    <tr>\n",
              "      <th>5</th>\n",
              "      <td>dew</td>\n",
              "      <td>582</td>\n",
              "      <td>95</td>\n",
              "      <td>BH,ET,BG,BR,LK,AE,PK,MN,MK,NP,CO,GE,BD,GN,SG,P...</td>\n",
              "    </tr>\n",
              "    <tr>\n",
              "      <th>6</th>\n",
              "      <td>pm25</td>\n",
              "      <td>548</td>\n",
              "      <td>92</td>\n",
              "      <td>PT,IS,MM,PR,BR,GE,EE,SG,NP,CO,EC,HR,MO,SV,PE,G...</td>\n",
              "    </tr>\n",
              "    <tr>\n",
              "      <th>7</th>\n",
              "      <td>no2</td>\n",
              "      <td>528</td>\n",
              "      <td>64</td>\n",
              "      <td>GE,CO,EE,SK,BG,MK,IE,IS,MO,JO,BR,AR,PT,PE,HR,P...</td>\n",
              "    </tr>\n",
              "    <tr>\n",
              "      <th>8</th>\n",
              "      <td>pm10</td>\n",
              "      <td>527</td>\n",
              "      <td>71</td>\n",
              "      <td>HR,BG,SK,PT,CO,JO,AR,BR,IS,NP,BO,AE,PH,HK,MN,M...</td>\n",
              "    </tr>\n",
              "    <tr>\n",
              "      <th>9</th>\n",
              "      <td>o3</td>\n",
              "      <td>514</td>\n",
              "      <td>63</td>\n",
              "      <td>SG,PT,MO,CO,EC,BR,IE,BG,BO,MN,GR,PE,MK,PH,MM,E...</td>\n",
              "    </tr>\n",
              "    <tr>\n",
              "      <th>10</th>\n",
              "      <td>so2</td>\n",
              "      <td>481</td>\n",
              "      <td>64</td>\n",
              "      <td>JO,MO,PT,MN,GR,HK,SG,HR,MK,PH,SK,PE,BG,AE,IE,A...</td>\n",
              "    </tr>\n",
              "    <tr>\n",
              "      <th>11</th>\n",
              "      <td>co</td>\n",
              "      <td>439</td>\n",
              "      <td>58</td>\n",
              "      <td>PE,MK,BR,AR,MN,HR,HK,AE,IS,MO,BG,SG,CO,PH,EC,S...</td>\n",
              "    </tr>\n",
              "    <tr>\n",
              "      <th>12</th>\n",
              "      <td>precipitation</td>\n",
              "      <td>285</td>\n",
              "      <td>50</td>\n",
              "      <td>PH,SK,EC,DZ,CO,XK,RE,PK,JO,NP,AR,LA,EE,KZ,GN,U...</td>\n",
              "    </tr>\n",
              "    <tr>\n",
              "      <th>13</th>\n",
              "      <td>wd</td>\n",
              "      <td>72</td>\n",
              "      <td>13</td>\n",
              "      <td>AR,CO,EC,CY,AU,CA,IL,IN,KR,MX,NZ,US,ZA</td>\n",
              "    </tr>\n",
              "    <tr>\n",
              "      <th>14</th>\n",
              "      <td>aqi</td>\n",
              "      <td>21</td>\n",
              "      <td>6</td>\n",
              "      <td>PR,GT,AU,CN,MY,VN</td>\n",
              "    </tr>\n",
              "    <tr>\n",
              "      <th>15</th>\n",
              "      <td>pol</td>\n",
              "      <td>17</td>\n",
              "      <td>2</td>\n",
              "      <td>CN,MY</td>\n",
              "    </tr>\n",
              "    <tr>\n",
              "      <th>16</th>\n",
              "      <td>uvi</td>\n",
              "      <td>11</td>\n",
              "      <td>4</td>\n",
              "      <td>HK,MO,BO,TW</td>\n",
              "    </tr>\n",
              "    <tr>\n",
              "      <th>17</th>\n",
              "      <td>pm1</td>\n",
              "      <td>4</td>\n",
              "      <td>2</td>\n",
              "      <td>NP,TH</td>\n",
              "    </tr>\n",
              "    <tr>\n",
              "      <th>18</th>\n",
              "      <td>neph</td>\n",
              "      <td>2</td>\n",
              "      <td>1</td>\n",
              "      <td>AU</td>\n",
              "    </tr>\n",
              "    <tr>\n",
              "      <th>19</th>\n",
              "      <td>mepaqi</td>\n",
              "      <td>1</td>\n",
              "      <td>1</td>\n",
              "      <td>SV</td>\n",
              "    </tr>\n",
              "  </tbody>\n",
              "</table>\n",
              "</div>"
            ],
            "text/plain": [
              "        Parameter  number_of_city  number_of_country  \\\n",
              "0        humidity             615                 95   \n",
              "1     temperature             615                 95   \n",
              "2        pressure             614                 95   \n",
              "3      wind-speed             613                 95   \n",
              "4       wind-gust             586                 90   \n",
              "5             dew             582                 95   \n",
              "6            pm25             548                 92   \n",
              "7             no2             528                 64   \n",
              "8            pm10             527                 71   \n",
              "9              o3             514                 63   \n",
              "10            so2             481                 64   \n",
              "11             co             439                 58   \n",
              "12  precipitation             285                 50   \n",
              "13             wd              72                 13   \n",
              "14            aqi              21                  6   \n",
              "15            pol              17                  2   \n",
              "16            uvi              11                  4   \n",
              "17            pm1               4                  2   \n",
              "18           neph               2                  1   \n",
              "19         mepaqi               1                  1   \n",
              "\n",
              "                                         list_country  \n",
              "0   PE,EC,CO,AR,HR,HK,BG,PH,JO,IE,BR,ET,LA,NP,PT,G...  \n",
              "1   JO,UG,PH,HK,NP,MN,GR,RE,AR,BR,GN,DZ,CR,GE,CO,P...  \n",
              "2   BR,HK,PE,EC,GN,MN,ID,GR,CO,CH,PT,PR,PK,NP,PH,L...  \n",
              "3   SV,PH,AR,SG,ML,MK,RE,LA,BG,EE,JO,CO,CH,SK,BR,I...  \n",
              "4   BR,AE,RE,HR,EE,AR,ID,KG,JO,LK,SG,PT,IS,HK,TJ,S...  \n",
              "5   BH,ET,BG,BR,LK,AE,PK,MN,MK,NP,CO,GE,BD,GN,SG,P...  \n",
              "6   PT,IS,MM,PR,BR,GE,EE,SG,NP,CO,EC,HR,MO,SV,PE,G...  \n",
              "7   GE,CO,EE,SK,BG,MK,IE,IS,MO,JO,BR,AR,PT,PE,HR,P...  \n",
              "8   HR,BG,SK,PT,CO,JO,AR,BR,IS,NP,BO,AE,PH,HK,MN,M...  \n",
              "9   SG,PT,MO,CO,EC,BR,IE,BG,BO,MN,GR,PE,MK,PH,MM,E...  \n",
              "10  JO,MO,PT,MN,GR,HK,SG,HR,MK,PH,SK,PE,BG,AE,IE,A...  \n",
              "11  PE,MK,BR,AR,MN,HR,HK,AE,IS,MO,BG,SG,CO,PH,EC,S...  \n",
              "12  PH,SK,EC,DZ,CO,XK,RE,PK,JO,NP,AR,LA,EE,KZ,GN,U...  \n",
              "13             AR,CO,EC,CY,AU,CA,IL,IN,KR,MX,NZ,US,ZA  \n",
              "14                                  PR,GT,AU,CN,MY,VN  \n",
              "15                                              CN,MY  \n",
              "16                                        HK,MO,BO,TW  \n",
              "17                                              NP,TH  \n",
              "18                                                 AU  \n",
              "19                                                 SV  "
            ]
          },
          "execution_count": 3,
          "metadata": {},
          "output_type": "execute_result"
        }
      ]
    },
    {
      "cell_type": "markdown",
      "metadata": {
        "id": "7584bc45"
      },
      "source": [
        "From the result, top 6 parameters are meteorological parameters. And the first air pollutants (which can be harmful to the public health and environment) is PM2.5, followed by NO2 and PM10.\n",
        "\n",
        "PM2.5 has been detected in 548 cities and  92 countries.  \n",
        "NO2 has been detected in 528 cities and  64 countries.  \n",
        "PM10 has been detected in 527 cities and  71 countries.\n",
        "\n",
        "We conclude PM2.5, NO2 and PM10 are the most prevalent criteria pollutants from the dataset. All of them are considered criteria pollutants set by EPA."
      ],
      "id": "7584bc45"
    },
    {
      "cell_type": "markdown",
      "metadata": {
        "id": "1e200848"
      },
      "source": [
        "---"
      ],
      "id": "1e200848"
    },
    {
      "cell_type": "markdown",
      "metadata": {
        "id": "12fceac9"
      },
      "source": [
        "### III. What were the pollutant levels in 2019 and 2020 globally, and their averages? \n",
        "\n",
        "The purpose of this question is to determine the air pollutant levels in 2019 and 2020. The air pollutant levels in 2019 serve as a baseline for the air pollutant levels in 2020. In the previous question we observe the distinct parameters that are within the Air Quality Database. Since the meteorological parameters are not needed for the project, we can exclude them, and only focus on the air pollutants. \n",
        "\n",
        "The first step is create a table where the parameters are only air pollutants and from the years 2019 and 2020. The next step was to select all the rows from each year, that had a certain parameter, and to union them all. This process was done for all six parameters for both years. "
      ],
      "id": "12fceac9"
    },
    {
      "cell_type": "markdown",
      "metadata": {
        "id": "d527f189"
      },
      "source": [
        "#### 1. Selecting Data from 2019 and 2020 with air pollutant information "
      ],
      "id": "d527f189"
    },
    {
      "cell_type": "code",
      "metadata": {
        "id": "80a45458",
        "outputId": "9fdb07e5-a71b-42ba-e770-24bffa24b8ab"
      },
      "source": [
        "%%bigquery\n",
        "SELECT Date, Country, City, lat as Latitude, lon as Longitude, pop as Population, Parameter as Pollutant, median as Pollutant_level\n",
        "FROM `ba775-team2-b2.AQICN.air_quality_data`\n",
        "WHERE (extract(year from date) = 2019 OR extract(year from date) = 2020) AND parameter IN ('co', 'o3','no2','so2','pm10',\n",
        "'pm25')\n",
        "ORDER BY Country, Date;"
      ],
      "id": "80a45458",
      "execution_count": null,
      "outputs": [
        {
          "name": "stderr",
          "output_type": "stream",
          "text": [
            "Query complete after 0.00s: 100%|██████████| 2/2 [00:00<00:00, 1175.70query/s]                        \n",
            "Downloading: 100%|██████████| 1968194/1968194 [00:02<00:00, 804214.66rows/s] \n"
          ]
        },
        {
          "data": {
            "text/html": [
              "<div>\n",
              "<style scoped>\n",
              "    .dataframe tbody tr th:only-of-type {\n",
              "        vertical-align: middle;\n",
              "    }\n",
              "\n",
              "    .dataframe tbody tr th {\n",
              "        vertical-align: top;\n",
              "    }\n",
              "\n",
              "    .dataframe thead th {\n",
              "        text-align: right;\n",
              "    }\n",
              "</style>\n",
              "<table border=\"1\" class=\"dataframe\">\n",
              "  <thead>\n",
              "    <tr style=\"text-align: right;\">\n",
              "      <th></th>\n",
              "      <th>Date</th>\n",
              "      <th>Country</th>\n",
              "      <th>City</th>\n",
              "      <th>Latitude</th>\n",
              "      <th>Longitude</th>\n",
              "      <th>Population</th>\n",
              "      <th>Pollutant</th>\n",
              "      <th>Pollutant_level</th>\n",
              "    </tr>\n",
              "  </thead>\n",
              "  <tbody>\n",
              "    <tr>\n",
              "      <th>0</th>\n",
              "      <td>2019-01-01</td>\n",
              "      <td>AE</td>\n",
              "      <td>Abu Dhabi</td>\n",
              "      <td>24.45118</td>\n",
              "      <td>54.39696</td>\n",
              "      <td>603492.0</td>\n",
              "      <td>pm25</td>\n",
              "      <td>122.0</td>\n",
              "    </tr>\n",
              "    <tr>\n",
              "      <th>1</th>\n",
              "      <td>2019-01-02</td>\n",
              "      <td>AE</td>\n",
              "      <td>Abu Dhabi</td>\n",
              "      <td>24.45118</td>\n",
              "      <td>54.39696</td>\n",
              "      <td>603492.0</td>\n",
              "      <td>pm25</td>\n",
              "      <td>99.0</td>\n",
              "    </tr>\n",
              "    <tr>\n",
              "      <th>2</th>\n",
              "      <td>2019-01-03</td>\n",
              "      <td>AE</td>\n",
              "      <td>Abu Dhabi</td>\n",
              "      <td>24.45118</td>\n",
              "      <td>54.39696</td>\n",
              "      <td>603492.0</td>\n",
              "      <td>pm25</td>\n",
              "      <td>117.0</td>\n",
              "    </tr>\n",
              "    <tr>\n",
              "      <th>3</th>\n",
              "      <td>2019-01-04</td>\n",
              "      <td>AE</td>\n",
              "      <td>Abu Dhabi</td>\n",
              "      <td>24.45118</td>\n",
              "      <td>54.39696</td>\n",
              "      <td>603492.0</td>\n",
              "      <td>pm25</td>\n",
              "      <td>107.0</td>\n",
              "    </tr>\n",
              "    <tr>\n",
              "      <th>4</th>\n",
              "      <td>2019-01-05</td>\n",
              "      <td>AE</td>\n",
              "      <td>Abu Dhabi</td>\n",
              "      <td>24.45118</td>\n",
              "      <td>54.39696</td>\n",
              "      <td>603492.0</td>\n",
              "      <td>pm25</td>\n",
              "      <td>78.0</td>\n",
              "    </tr>\n",
              "    <tr>\n",
              "      <th>...</th>\n",
              "      <td>...</td>\n",
              "      <td>...</td>\n",
              "      <td>...</td>\n",
              "      <td>...</td>\n",
              "      <td>...</td>\n",
              "      <td>...</td>\n",
              "      <td>...</td>\n",
              "      <td>...</td>\n",
              "    </tr>\n",
              "    <tr>\n",
              "      <th>1968189</th>\n",
              "      <td>2020-12-31</td>\n",
              "      <td>ZA</td>\n",
              "      <td>Durban</td>\n",
              "      <td>-29.85790</td>\n",
              "      <td>31.02920</td>\n",
              "      <td>3120282.0</td>\n",
              "      <td>pm10</td>\n",
              "      <td>20.0</td>\n",
              "    </tr>\n",
              "    <tr>\n",
              "      <th>1968190</th>\n",
              "      <td>2020-12-31</td>\n",
              "      <td>ZA</td>\n",
              "      <td>Johannesburg</td>\n",
              "      <td>-26.20227</td>\n",
              "      <td>28.04363</td>\n",
              "      <td>2026469.0</td>\n",
              "      <td>co</td>\n",
              "      <td>3.8</td>\n",
              "    </tr>\n",
              "    <tr>\n",
              "      <th>1968191</th>\n",
              "      <td>2020-12-31</td>\n",
              "      <td>ZA</td>\n",
              "      <td>Johannesburg</td>\n",
              "      <td>-26.20227</td>\n",
              "      <td>28.04363</td>\n",
              "      <td>2026469.0</td>\n",
              "      <td>o3</td>\n",
              "      <td>8.1</td>\n",
              "    </tr>\n",
              "    <tr>\n",
              "      <th>1968192</th>\n",
              "      <td>2020-12-31</td>\n",
              "      <td>ZA</td>\n",
              "      <td>Johannesburg</td>\n",
              "      <td>-26.20227</td>\n",
              "      <td>28.04363</td>\n",
              "      <td>2026469.0</td>\n",
              "      <td>pm10</td>\n",
              "      <td>16.0</td>\n",
              "    </tr>\n",
              "    <tr>\n",
              "      <th>1968193</th>\n",
              "      <td>2020-12-31</td>\n",
              "      <td>ZA</td>\n",
              "      <td>Johannesburg</td>\n",
              "      <td>-26.20227</td>\n",
              "      <td>28.04363</td>\n",
              "      <td>2026469.0</td>\n",
              "      <td>so2</td>\n",
              "      <td>1.0</td>\n",
              "    </tr>\n",
              "  </tbody>\n",
              "</table>\n",
              "<p>1968194 rows × 8 columns</p>\n",
              "</div>"
            ],
            "text/plain": [
              "               Date Country          City  Latitude  Longitude  Population  \\\n",
              "0        2019-01-01      AE     Abu Dhabi  24.45118   54.39696    603492.0   \n",
              "1        2019-01-02      AE     Abu Dhabi  24.45118   54.39696    603492.0   \n",
              "2        2019-01-03      AE     Abu Dhabi  24.45118   54.39696    603492.0   \n",
              "3        2019-01-04      AE     Abu Dhabi  24.45118   54.39696    603492.0   \n",
              "4        2019-01-05      AE     Abu Dhabi  24.45118   54.39696    603492.0   \n",
              "...             ...     ...           ...       ...        ...         ...   \n",
              "1968189  2020-12-31      ZA        Durban -29.85790   31.02920   3120282.0   \n",
              "1968190  2020-12-31      ZA  Johannesburg -26.20227   28.04363   2026469.0   \n",
              "1968191  2020-12-31      ZA  Johannesburg -26.20227   28.04363   2026469.0   \n",
              "1968192  2020-12-31      ZA  Johannesburg -26.20227   28.04363   2026469.0   \n",
              "1968193  2020-12-31      ZA  Johannesburg -26.20227   28.04363   2026469.0   \n",
              "\n",
              "        Pollutant  Pollutant_level  \n",
              "0            pm25            122.0  \n",
              "1            pm25             99.0  \n",
              "2            pm25            117.0  \n",
              "3            pm25            107.0  \n",
              "4            pm25             78.0  \n",
              "...           ...              ...  \n",
              "1968189      pm10             20.0  \n",
              "1968190        co              3.8  \n",
              "1968191        o3              8.1  \n",
              "1968192      pm10             16.0  \n",
              "1968193       so2              1.0  \n",
              "\n",
              "[1968194 rows x 8 columns]"
            ]
          },
          "execution_count": 43,
          "metadata": {},
          "output_type": "execute_result"
        }
      ]
    },
    {
      "cell_type": "markdown",
      "metadata": {
        "id": "62a2fa25"
      },
      "source": [
        "As we can see after filtering the tables for only the air pollutants we have 1.9 million rows. From here we split the data into 2019 data and 2020 data. "
      ],
      "id": "62a2fa25"
    },
    {
      "cell_type": "markdown",
      "metadata": {
        "id": "55b51e9d"
      },
      "source": [
        "#### 2. Monthly Air Pollutant Data from 2019 "
      ],
      "id": "55b51e9d"
    },
    {
      "cell_type": "code",
      "metadata": {
        "id": "420a300e",
        "outputId": "f830e2b8-51b9-4e3a-c9fb-6e7bb71dc5c9"
      },
      "source": [
        "%%bigquery\n",
        "SELECT extract(month from date) Month, Parameter as Pollutant,Round(avg(median),2) as Avg_Pollutant_Level_2019\n",
        "FROM `ba775-team2-b2.AQICN.air_quality_data`\n",
        "WHERE extract(year from date) = 2019 AND parameter IN ('co')\n",
        "GROUP BY Month, Parameter\n",
        "\n",
        "UNION ALL \n",
        "\n",
        "SELECT extract(month from date) Month, Parameter ,Round(avg(median),2)\n",
        "FROM `ba775-team2-b2.AQICN.air_quality_data`\n",
        "WHERE extract(year from date) = 2019 AND parameter IN ('o3')\n",
        "GROUP BY Month, Parameter\n",
        "\n",
        "UNION ALL \n",
        "\n",
        "SELECT extract(month from date) Month, Parameter ,Round(avg(median),2) \n",
        "FROM `ba775-team2-b2.AQICN.air_quality_data`\n",
        "WHERE extract(year from date) = 2019 AND parameter IN ('no2')\n",
        "GROUP BY Month, Parameter\n",
        "\n",
        "UNION ALL \n",
        "\n",
        "SELECT extract(month from date) Month, Parameter ,Round(avg(median),2) \n",
        "FROM `ba775-team2-b2.AQICN.air_quality_data`\n",
        "WHERE extract(year from date) = 2019 AND parameter IN ('so2')\n",
        "GROUP BY Month, Parameter\n",
        "\n",
        "UNION ALL \n",
        "\n",
        "SELECT extract(month from date) Month, Parameter ,Round(avg(median),2) \n",
        "FROM `ba775-team2-b2.AQICN.air_quality_data`\n",
        "WHERE extract(year from date) = 2019 AND parameter IN ('pm10')\n",
        "GROUP BY Month, Parameter\n",
        "\n",
        "UNION ALL \n",
        "\n",
        "SELECT extract(month from date) Month, Parameter ,Round(avg(median),2) \n",
        "FROM `ba775-team2-b2.AQICN.air_quality_data`\n",
        "WHERE extract(year from date) = 2019 AND parameter IN ('pm25')\n",
        "GROUP BY Month, Parameter\n",
        "\n",
        "\n",
        "ORDER BY Month; "
      ],
      "id": "420a300e",
      "execution_count": null,
      "outputs": [
        {
          "name": "stderr",
          "output_type": "stream",
          "text": [
            "Query complete after 0.00s: 100%|██████████| 8/8 [00:00<00:00, 4930.85query/s]                        \n",
            "Downloading: 100%|██████████| 72/72 [00:01<00:00, 64.20rows/s] \n"
          ]
        },
        {
          "data": {
            "text/html": [
              "<div>\n",
              "<style scoped>\n",
              "    .dataframe tbody tr th:only-of-type {\n",
              "        vertical-align: middle;\n",
              "    }\n",
              "\n",
              "    .dataframe tbody tr th {\n",
              "        vertical-align: top;\n",
              "    }\n",
              "\n",
              "    .dataframe thead th {\n",
              "        text-align: right;\n",
              "    }\n",
              "</style>\n",
              "<table border=\"1\" class=\"dataframe\">\n",
              "  <thead>\n",
              "    <tr style=\"text-align: right;\">\n",
              "      <th></th>\n",
              "      <th>Month</th>\n",
              "      <th>Pollutant</th>\n",
              "      <th>Avg_Pollutant_Level_2019</th>\n",
              "    </tr>\n",
              "  </thead>\n",
              "  <tbody>\n",
              "    <tr>\n",
              "      <th>0</th>\n",
              "      <td>1</td>\n",
              "      <td>pm25</td>\n",
              "      <td>67.53</td>\n",
              "    </tr>\n",
              "    <tr>\n",
              "      <th>1</th>\n",
              "      <td>1</td>\n",
              "      <td>co</td>\n",
              "      <td>5.22</td>\n",
              "    </tr>\n",
              "    <tr>\n",
              "      <th>2</th>\n",
              "      <td>1</td>\n",
              "      <td>pm10</td>\n",
              "      <td>33.03</td>\n",
              "    </tr>\n",
              "    <tr>\n",
              "      <th>3</th>\n",
              "      <td>1</td>\n",
              "      <td>no2</td>\n",
              "      <td>13.74</td>\n",
              "    </tr>\n",
              "    <tr>\n",
              "      <th>4</th>\n",
              "      <td>1</td>\n",
              "      <td>o3</td>\n",
              "      <td>15.43</td>\n",
              "    </tr>\n",
              "    <tr>\n",
              "      <th>...</th>\n",
              "      <td>...</td>\n",
              "      <td>...</td>\n",
              "      <td>...</td>\n",
              "    </tr>\n",
              "    <tr>\n",
              "      <th>67</th>\n",
              "      <td>12</td>\n",
              "      <td>co</td>\n",
              "      <td>5.99</td>\n",
              "    </tr>\n",
              "    <tr>\n",
              "      <th>68</th>\n",
              "      <td>12</td>\n",
              "      <td>pm10</td>\n",
              "      <td>31.15</td>\n",
              "    </tr>\n",
              "    <tr>\n",
              "      <th>69</th>\n",
              "      <td>12</td>\n",
              "      <td>no2</td>\n",
              "      <td>13.35</td>\n",
              "    </tr>\n",
              "    <tr>\n",
              "      <th>70</th>\n",
              "      <td>12</td>\n",
              "      <td>o3</td>\n",
              "      <td>14.29</td>\n",
              "    </tr>\n",
              "    <tr>\n",
              "      <th>71</th>\n",
              "      <td>12</td>\n",
              "      <td>so2</td>\n",
              "      <td>4.54</td>\n",
              "    </tr>\n",
              "  </tbody>\n",
              "</table>\n",
              "<p>72 rows × 3 columns</p>\n",
              "</div>"
            ],
            "text/plain": [
              "    Month Pollutant  Avg_Pollutant_Level_2019\n",
              "0       1      pm25                     67.53\n",
              "1       1        co                      5.22\n",
              "2       1      pm10                     33.03\n",
              "3       1       no2                     13.74\n",
              "4       1        o3                     15.43\n",
              "..    ...       ...                       ...\n",
              "67     12        co                      5.99\n",
              "68     12      pm10                     31.15\n",
              "69     12       no2                     13.35\n",
              "70     12        o3                     14.29\n",
              "71     12       so2                      4.54\n",
              "\n",
              "[72 rows x 3 columns]"
            ]
          },
          "execution_count": 41,
          "metadata": {},
          "output_type": "execute_result"
        }
      ]
    },
    {
      "cell_type": "markdown",
      "metadata": {
        "id": "4f9e81e9"
      },
      "source": [
        "This query represents the average pollutant level for each air pollutant globally for each month. We do this again for the 2020 data. "
      ],
      "id": "4f9e81e9"
    },
    {
      "cell_type": "markdown",
      "metadata": {
        "id": "d0043188"
      },
      "source": [
        "#### 3. Monthly Air Pollutant Data from 2020 "
      ],
      "id": "d0043188"
    },
    {
      "cell_type": "code",
      "metadata": {
        "id": "eb62c004",
        "outputId": "438a64ed-db7b-47c8-c395-2c47982adcf4"
      },
      "source": [
        "%%bigquery\n",
        "SELECT extract(month from date) Month, Parameter as Pollutant,Round(avg(median),2) as Avg_Pollutant_Level_2020\n",
        "FROM `ba775-team2-b2.AQICN.air_quality_data`\n",
        "WHERE extract(year from date) = 2020 AND parameter IN ('co')\n",
        "GROUP BY Month, Parameter\n",
        "\n",
        "UNION ALL \n",
        "\n",
        "SELECT extract(month from date) Month, Parameter ,Round(avg(median),2)\n",
        "FROM `ba775-team2-b2.AQICN.air_quality_data`\n",
        "WHERE extract(year from date) = 2020 AND parameter IN ('o3')\n",
        "GROUP BY Month, Parameter\n",
        "\n",
        "UNION ALL \n",
        "\n",
        "SELECT extract(month from date) Month, Parameter ,Round(avg(median),2) \n",
        "FROM `ba775-team2-b2.AQICN.air_quality_data`\n",
        "WHERE extract(year from date) = 2020 AND parameter IN ('no2')\n",
        "GROUP BY Month, Parameter\n",
        "\n",
        "UNION ALL \n",
        "\n",
        "SELECT extract(month from date) Month, Parameter ,Round(avg(median),2) \n",
        "FROM `ba775-team2-b2.AQICN.air_quality_data`\n",
        "WHERE extract(year from date) = 2020 AND parameter IN ('so2')\n",
        "GROUP BY Month, Parameter\n",
        "\n",
        "UNION ALL \n",
        "\n",
        "SELECT extract(month from date) Month, Parameter ,Round(avg(median),2) \n",
        "FROM `ba775-team2-b2.AQICN.air_quality_data`\n",
        "WHERE extract(year from date) = 2020 AND parameter IN ('pm10')\n",
        "GROUP BY Month, Parameter\n",
        "\n",
        "UNION ALL \n",
        "\n",
        "SELECT extract(month from date) Month, Parameter ,Round(avg(median),2) \n",
        "FROM `ba775-team2-b2.AQICN.air_quality_data`\n",
        "WHERE extract(year from date) = 2020 AND parameter IN ('pm25')\n",
        "GROUP BY Month, Parameter\n",
        "\n",
        "\n",
        "ORDER BY Month; "
      ],
      "id": "eb62c004",
      "execution_count": null,
      "outputs": [
        {
          "name": "stderr",
          "output_type": "stream",
          "text": [
            "Query complete after 0.00s: 100%|██████████| 8/8 [00:00<00:00, 4959.27query/s]                        \n",
            "Downloading: 100%|██████████| 72/72 [00:01<00:00, 51.38rows/s]\n"
          ]
        },
        {
          "data": {
            "text/html": [
              "<div>\n",
              "<style scoped>\n",
              "    .dataframe tbody tr th:only-of-type {\n",
              "        vertical-align: middle;\n",
              "    }\n",
              "\n",
              "    .dataframe tbody tr th {\n",
              "        vertical-align: top;\n",
              "    }\n",
              "\n",
              "    .dataframe thead th {\n",
              "        text-align: right;\n",
              "    }\n",
              "</style>\n",
              "<table border=\"1\" class=\"dataframe\">\n",
              "  <thead>\n",
              "    <tr style=\"text-align: right;\">\n",
              "      <th></th>\n",
              "      <th>Month</th>\n",
              "      <th>Pollutant</th>\n",
              "      <th>Avg_Pollutant_Level_2020</th>\n",
              "    </tr>\n",
              "  </thead>\n",
              "  <tbody>\n",
              "    <tr>\n",
              "      <th>0</th>\n",
              "      <td>1</td>\n",
              "      <td>so2</td>\n",
              "      <td>4.99</td>\n",
              "    </tr>\n",
              "    <tr>\n",
              "      <th>1</th>\n",
              "      <td>1</td>\n",
              "      <td>o3</td>\n",
              "      <td>14.90</td>\n",
              "    </tr>\n",
              "    <tr>\n",
              "      <th>2</th>\n",
              "      <td>1</td>\n",
              "      <td>no2</td>\n",
              "      <td>12.89</td>\n",
              "    </tr>\n",
              "    <tr>\n",
              "      <th>3</th>\n",
              "      <td>1</td>\n",
              "      <td>pm25</td>\n",
              "      <td>68.60</td>\n",
              "    </tr>\n",
              "    <tr>\n",
              "      <th>4</th>\n",
              "      <td>1</td>\n",
              "      <td>pm10</td>\n",
              "      <td>31.78</td>\n",
              "    </tr>\n",
              "    <tr>\n",
              "      <th>...</th>\n",
              "      <td>...</td>\n",
              "      <td>...</td>\n",
              "      <td>...</td>\n",
              "    </tr>\n",
              "    <tr>\n",
              "      <th>67</th>\n",
              "      <td>12</td>\n",
              "      <td>o3</td>\n",
              "      <td>13.10</td>\n",
              "    </tr>\n",
              "    <tr>\n",
              "      <th>68</th>\n",
              "      <td>12</td>\n",
              "      <td>no2</td>\n",
              "      <td>12.15</td>\n",
              "    </tr>\n",
              "    <tr>\n",
              "      <th>69</th>\n",
              "      <td>12</td>\n",
              "      <td>pm25</td>\n",
              "      <td>65.90</td>\n",
              "    </tr>\n",
              "    <tr>\n",
              "      <th>70</th>\n",
              "      <td>12</td>\n",
              "      <td>pm10</td>\n",
              "      <td>31.22</td>\n",
              "    </tr>\n",
              "    <tr>\n",
              "      <th>71</th>\n",
              "      <td>12</td>\n",
              "      <td>co</td>\n",
              "      <td>5.84</td>\n",
              "    </tr>\n",
              "  </tbody>\n",
              "</table>\n",
              "<p>72 rows × 3 columns</p>\n",
              "</div>"
            ],
            "text/plain": [
              "    Month Pollutant  Avg_Pollutant_Level_2020\n",
              "0       1       so2                      4.99\n",
              "1       1        o3                     14.90\n",
              "2       1       no2                     12.89\n",
              "3       1      pm25                     68.60\n",
              "4       1      pm10                     31.78\n",
              "..    ...       ...                       ...\n",
              "67     12        o3                     13.10\n",
              "68     12       no2                     12.15\n",
              "69     12      pm25                     65.90\n",
              "70     12      pm10                     31.22\n",
              "71     12        co                      5.84\n",
              "\n",
              "[72 rows x 3 columns]"
            ]
          },
          "execution_count": 42,
          "metadata": {},
          "output_type": "execute_result"
        }
      ]
    },
    {
      "cell_type": "markdown",
      "metadata": {
        "id": "c057e0b6"
      },
      "source": [
        "When comparing the data there isn't a noticeable difference in pollutant levels in either year, which leads to the hypothesis of pollutant levels being regional rather than global. This might also mean that whatever effects might be occurring from COVID-19 cases, and lockdowns are so short-term that the average monthly air pollutant is not capturing small intricacies in the data. We can further narrow down the data by analyzing data from when lockdowns were occurring in different countries, and regions globally. "
      ],
      "id": "c057e0b6"
    },
    {
      "cell_type": "markdown",
      "metadata": {
        "id": "8625d53f"
      },
      "source": [
        "---"
      ],
      "id": "8625d53f"
    },
    {
      "cell_type": "markdown",
      "metadata": {
        "id": "4bdc0f8c"
      },
      "source": [
        "### IV: What cities had the highest changes in pollutant air quality index during COVID-19? "
      ],
      "id": "4bdc0f8c"
    },
    {
      "cell_type": "markdown",
      "metadata": {
        "id": "f76aa78f"
      },
      "source": [
        "In this question, we are trying to find cities with most air quality improvement during COVID, and cities with longest time of certain level AQI reduction."
      ],
      "id": "f76aa78f"
    },
    {
      "cell_type": "markdown",
      "metadata": {
        "id": "958ccb13"
      },
      "source": [
        "#### 1. 10 cities with most air quality index reduction for each pollutant\n",
        "Making queries and creating tables to find monthly average air quality index (AQI) for all pollutants at city level"
      ],
      "id": "958ccb13"
    },
    {
      "cell_type": "markdown",
      "metadata": {
        "id": "8d162dbc"
      },
      "source": [
        "We are using data in 2019 as a baseline and computing AQI differences and percent differences. Negative difference values indicates air quality index decrease, corresponding to an air quality improvement, and positive difference values indicate air quality index increases, corresponding to an air quality deterioration."
      ],
      "id": "8d162dbc"
    },
    {
      "cell_type": "code",
      "metadata": {
        "id": "27d2591d",
        "outputId": "31bf8d29-ec74-489b-931e-a1a4b1dcbe8a"
      },
      "source": [
        "%%bigquery \n",
        "CREATE OR REPLACE TABLE AQICN.pollutant_diff_daily_aqi_less_than_500\n",
        "AS\n",
        "(\n",
        "SELECT A.Date AS Date_2020,B.Date AS Date_2019,A.Country,A.City,A.lat,A.lon,A.Parameter,A.pop,A.median AS aqi_2020,B.median AS aqi_2019,(A.median-B.median) AS aqi_diff, ROUND((A.median-B.median)/B.median*100,2) AS aqi_percent_diff\n",
        "FROM\n",
        "(SELECT * FROM `ba775-team2-b2.AQICN.air_quality_data`\n",
        "WHERE Parameter in ('pm25','pm10','o3','no2','co','so2') AND EXTRACT(Year FROM Date) = 2020 AND median > 0 AND median < 500) AS A\n",
        "INNER JOIN\n",
        "(SELECT * FROM `ba775-team2-b2.AQICN.air_quality_data`\n",
        "WHERE Parameter in ('pm25','pm10','o3','no2','co','so2') AND EXTRACT(Year FROM Date) = 2019 AND median > 0 AND median < 500) AS B\n",
        "ON A.City = B.City\n",
        "WHERE EXTRACT(MONTH FROM A.Date) = EXTRACT(MONTH FROM B.Date) AND EXTRACT(DAY FROM A.Date) = EXTRACT(DAY FROM B.Date) AND A.Parameter = B.Parameter\n",
        "ORDER BY City,Date_2020\n",
        ")"
      ],
      "id": "27d2591d",
      "execution_count": null,
      "outputs": [
        {
          "name": "stderr",
          "output_type": "stream",
          "text": [
            "Query complete after 0.00s: 100%|██████████| 4/4 [00:00<00:00, 2424.10query/s]                        \n"
          ]
        },
        {
          "data": {
            "text/html": [
              "<div>\n",
              "<style scoped>\n",
              "    .dataframe tbody tr th:only-of-type {\n",
              "        vertical-align: middle;\n",
              "    }\n",
              "\n",
              "    .dataframe tbody tr th {\n",
              "        vertical-align: top;\n",
              "    }\n",
              "\n",
              "    .dataframe thead th {\n",
              "        text-align: right;\n",
              "    }\n",
              "</style>\n",
              "<table border=\"1\" class=\"dataframe\">\n",
              "  <thead>\n",
              "    <tr style=\"text-align: right;\">\n",
              "      <th></th>\n",
              "    </tr>\n",
              "  </thead>\n",
              "  <tbody>\n",
              "  </tbody>\n",
              "</table>\n",
              "</div>"
            ],
            "text/plain": [
              "Empty DataFrame\n",
              "Columns: []\n",
              "Index: []"
            ]
          },
          "execution_count": 1,
          "metadata": {},
          "output_type": "execute_result"
        }
      ]
    },
    {
      "cell_type": "code",
      "metadata": {
        "id": "8fabb726",
        "outputId": "2a3e8cd4-37cd-45c6-a1a9-d937c11607a4"
      },
      "source": [
        "%%bigquery \n",
        "CREATE OR REPLACE TABLE AQICN.pollutant_diff_monthly_aqi\n",
        "AS\n",
        "SELECT EXTRACT(month FROM Date_2020) AS month_2020,EXTRACT(month FROM Date_2019) AS month_2019,\n",
        "    Country,City,lat,lon,Parameter,ROUND(AVG(aqi_2020),1) AS monthly_avg_aqi_2020,\n",
        "    ROUND(AVG(aqi_2019),1) AS monthly_avg_aqi_2019,(ROUND(AVG(aqi_2020),1)-ROUND(AVG(aqi_2019),1)) AS aqi_diff_monthly,\n",
        "    ROUND((AVG(aqi_2020)-AVG(aqi_2019))/AVG(aqi_2019)*100,2) AS aqi_percent_diff_monthly\n",
        "FROM AQICN.pollutant_diff_daily_aqi_less_than_500\n",
        "GROUP BY month_2020,month_2019,Country,City,lat,lon,Parameter\n"
      ],
      "id": "8fabb726",
      "execution_count": null,
      "outputs": [
        {
          "name": "stderr",
          "output_type": "stream",
          "text": [
            "Query complete after 0.00s: 100%|██████████| 4/4 [00:00<00:00, 1818.67query/s]                        \n"
          ]
        },
        {
          "data": {
            "text/html": [
              "<div>\n",
              "<style scoped>\n",
              "    .dataframe tbody tr th:only-of-type {\n",
              "        vertical-align: middle;\n",
              "    }\n",
              "\n",
              "    .dataframe tbody tr th {\n",
              "        vertical-align: top;\n",
              "    }\n",
              "\n",
              "    .dataframe thead th {\n",
              "        text-align: right;\n",
              "    }\n",
              "</style>\n",
              "<table border=\"1\" class=\"dataframe\">\n",
              "  <thead>\n",
              "    <tr style=\"text-align: right;\">\n",
              "      <th></th>\n",
              "    </tr>\n",
              "  </thead>\n",
              "  <tbody>\n",
              "  </tbody>\n",
              "</table>\n",
              "</div>"
            ],
            "text/plain": [
              "Empty DataFrame\n",
              "Columns: []\n",
              "Index: []"
            ]
          },
          "execution_count": 2,
          "metadata": {},
          "output_type": "execute_result"
        }
      ]
    },
    {
      "cell_type": "code",
      "metadata": {
        "id": "4a2ef00e",
        "outputId": "209bad45-8f56-4609-862c-5010409cad03"
      },
      "source": [
        "%%bigquery\n",
        "SELECT *\n",
        "FROM AQICN.pollutant_diff_monthly_aqi\n",
        "ORDER BY Parameter,month_2020,Country\n",
        "LIMIT 10"
      ],
      "id": "4a2ef00e",
      "execution_count": null,
      "outputs": [
        {
          "name": "stderr",
          "output_type": "stream",
          "text": [
            "Query complete after 0.00s: 100%|██████████| 1/1 [00:00<00:00, 368.89query/s]                          \n",
            "Downloading: 100%|██████████| 10/10 [00:01<00:00,  6.39rows/s]\n"
          ]
        },
        {
          "data": {
            "text/html": [
              "<div>\n",
              "<style scoped>\n",
              "    .dataframe tbody tr th:only-of-type {\n",
              "        vertical-align: middle;\n",
              "    }\n",
              "\n",
              "    .dataframe tbody tr th {\n",
              "        vertical-align: top;\n",
              "    }\n",
              "\n",
              "    .dataframe thead th {\n",
              "        text-align: right;\n",
              "    }\n",
              "</style>\n",
              "<table border=\"1\" class=\"dataframe\">\n",
              "  <thead>\n",
              "    <tr style=\"text-align: right;\">\n",
              "      <th></th>\n",
              "      <th>month_2020</th>\n",
              "      <th>month_2019</th>\n",
              "      <th>Country</th>\n",
              "      <th>City</th>\n",
              "      <th>lat</th>\n",
              "      <th>lon</th>\n",
              "      <th>Parameter</th>\n",
              "      <th>monthly_avg_aqi_2020</th>\n",
              "      <th>monthly_avg_aqi_2019</th>\n",
              "      <th>aqi_diff_monthly</th>\n",
              "      <th>aqi_percent_diff_monthly</th>\n",
              "    </tr>\n",
              "  </thead>\n",
              "  <tbody>\n",
              "    <tr>\n",
              "      <th>0</th>\n",
              "      <td>1</td>\n",
              "      <td>1</td>\n",
              "      <td>AR</td>\n",
              "      <td>Buenos Aires</td>\n",
              "      <td>-34.61315</td>\n",
              "      <td>-58.37723</td>\n",
              "      <td>co</td>\n",
              "      <td>4.2</td>\n",
              "      <td>0.6</td>\n",
              "      <td>3.6</td>\n",
              "      <td>635.48</td>\n",
              "    </tr>\n",
              "    <tr>\n",
              "      <th>1</th>\n",
              "      <td>1</td>\n",
              "      <td>1</td>\n",
              "      <td>AT</td>\n",
              "      <td>Linz</td>\n",
              "      <td>48.30639</td>\n",
              "      <td>14.28611</td>\n",
              "      <td>co</td>\n",
              "      <td>0.1</td>\n",
              "      <td>0.1</td>\n",
              "      <td>0.0</td>\n",
              "      <td>0.00</td>\n",
              "    </tr>\n",
              "    <tr>\n",
              "      <th>2</th>\n",
              "      <td>1</td>\n",
              "      <td>1</td>\n",
              "      <td>AT</td>\n",
              "      <td>Graz</td>\n",
              "      <td>47.06667</td>\n",
              "      <td>15.45000</td>\n",
              "      <td>co</td>\n",
              "      <td>0.1</td>\n",
              "      <td>0.1</td>\n",
              "      <td>0.0</td>\n",
              "      <td>0.00</td>\n",
              "    </tr>\n",
              "    <tr>\n",
              "      <th>3</th>\n",
              "      <td>1</td>\n",
              "      <td>1</td>\n",
              "      <td>AT</td>\n",
              "      <td>Salzburg</td>\n",
              "      <td>47.79941</td>\n",
              "      <td>13.04399</td>\n",
              "      <td>co</td>\n",
              "      <td>0.1</td>\n",
              "      <td>0.1</td>\n",
              "      <td>0.0</td>\n",
              "      <td>0.00</td>\n",
              "    </tr>\n",
              "    <tr>\n",
              "      <th>4</th>\n",
              "      <td>1</td>\n",
              "      <td>1</td>\n",
              "      <td>AT</td>\n",
              "      <td>Innsbruck</td>\n",
              "      <td>47.26266</td>\n",
              "      <td>11.39454</td>\n",
              "      <td>co</td>\n",
              "      <td>0.1</td>\n",
              "      <td>0.1</td>\n",
              "      <td>0.0</td>\n",
              "      <td>0.00</td>\n",
              "    </tr>\n",
              "    <tr>\n",
              "      <th>5</th>\n",
              "      <td>1</td>\n",
              "      <td>1</td>\n",
              "      <td>AT</td>\n",
              "      <td>Vienna</td>\n",
              "      <td>48.20849</td>\n",
              "      <td>16.37208</td>\n",
              "      <td>co</td>\n",
              "      <td>0.1</td>\n",
              "      <td>0.1</td>\n",
              "      <td>0.0</td>\n",
              "      <td>0.00</td>\n",
              "    </tr>\n",
              "    <tr>\n",
              "      <th>6</th>\n",
              "      <td>1</td>\n",
              "      <td>1</td>\n",
              "      <td>AU</td>\n",
              "      <td>Adelaide</td>\n",
              "      <td>-34.92866</td>\n",
              "      <td>138.59863</td>\n",
              "      <td>co</td>\n",
              "      <td>2.0</td>\n",
              "      <td>0.2</td>\n",
              "      <td>1.8</td>\n",
              "      <td>1047.27</td>\n",
              "    </tr>\n",
              "    <tr>\n",
              "      <th>7</th>\n",
              "      <td>1</td>\n",
              "      <td>1</td>\n",
              "      <td>AU</td>\n",
              "      <td>Perth</td>\n",
              "      <td>-31.95224</td>\n",
              "      <td>115.86140</td>\n",
              "      <td>co</td>\n",
              "      <td>2.2</td>\n",
              "      <td>2.3</td>\n",
              "      <td>-0.1</td>\n",
              "      <td>-3.92</td>\n",
              "    </tr>\n",
              "    <tr>\n",
              "      <th>8</th>\n",
              "      <td>1</td>\n",
              "      <td>1</td>\n",
              "      <td>AU</td>\n",
              "      <td>Sydney</td>\n",
              "      <td>-33.86785</td>\n",
              "      <td>151.20732</td>\n",
              "      <td>co</td>\n",
              "      <td>3.9</td>\n",
              "      <td>2.7</td>\n",
              "      <td>1.2</td>\n",
              "      <td>45.50</td>\n",
              "    </tr>\n",
              "    <tr>\n",
              "      <th>9</th>\n",
              "      <td>1</td>\n",
              "      <td>1</td>\n",
              "      <td>AU</td>\n",
              "      <td>Darwin</td>\n",
              "      <td>-12.46113</td>\n",
              "      <td>130.84185</td>\n",
              "      <td>co</td>\n",
              "      <td>3.6</td>\n",
              "      <td>3.8</td>\n",
              "      <td>-0.2</td>\n",
              "      <td>-4.73</td>\n",
              "    </tr>\n",
              "  </tbody>\n",
              "</table>\n",
              "</div>"
            ],
            "text/plain": [
              "   month_2020  month_2019 Country          City       lat        lon  \\\n",
              "0           1           1      AR  Buenos Aires -34.61315  -58.37723   \n",
              "1           1           1      AT          Linz  48.30639   14.28611   \n",
              "2           1           1      AT          Graz  47.06667   15.45000   \n",
              "3           1           1      AT      Salzburg  47.79941   13.04399   \n",
              "4           1           1      AT     Innsbruck  47.26266   11.39454   \n",
              "5           1           1      AT        Vienna  48.20849   16.37208   \n",
              "6           1           1      AU      Adelaide -34.92866  138.59863   \n",
              "7           1           1      AU         Perth -31.95224  115.86140   \n",
              "8           1           1      AU        Sydney -33.86785  151.20732   \n",
              "9           1           1      AU        Darwin -12.46113  130.84185   \n",
              "\n",
              "  Parameter  monthly_avg_aqi_2020  monthly_avg_aqi_2019  aqi_diff_monthly  \\\n",
              "0        co                   4.2                   0.6               3.6   \n",
              "1        co                   0.1                   0.1               0.0   \n",
              "2        co                   0.1                   0.1               0.0   \n",
              "3        co                   0.1                   0.1               0.0   \n",
              "4        co                   0.1                   0.1               0.0   \n",
              "5        co                   0.1                   0.1               0.0   \n",
              "6        co                   2.0                   0.2               1.8   \n",
              "7        co                   2.2                   2.3              -0.1   \n",
              "8        co                   3.9                   2.7               1.2   \n",
              "9        co                   3.6                   3.8              -0.2   \n",
              "\n",
              "   aqi_percent_diff_monthly  \n",
              "0                    635.48  \n",
              "1                      0.00  \n",
              "2                      0.00  \n",
              "3                      0.00  \n",
              "4                      0.00  \n",
              "5                      0.00  \n",
              "6                   1047.27  \n",
              "7                     -3.92  \n",
              "8                     45.50  \n",
              "9                     -4.73  "
            ]
          },
          "execution_count": 3,
          "metadata": {},
          "output_type": "execute_result"
        }
      ]
    },
    {
      "cell_type": "markdown",
      "metadata": {
        "id": "7c6f2621"
      },
      "source": [
        "Order by monthly average AQI difference to find cities having top 10 air quality index reduction for each pollutant"
      ],
      "id": "7c6f2621"
    },
    {
      "cell_type": "code",
      "metadata": {
        "id": "e7871e9c",
        "outputId": "1099273c-29e1-4b83-8374-35ae24dd3a0c"
      },
      "source": [
        "%%bigquery \n",
        "\n",
        "CREATE OR REPLACE TABLE AQICN.top_10_cites_most_pollutant_percent_diff_monthly\n",
        "AS\n",
        "(SELECT * \n",
        "FROM AQICN.pollutant_diff_monthly_aqi\n",
        "WHERE Parameter = 'co'\n",
        "ORDER BY aqi_percent_diff_monthly\n",
        "LIMIT 10)\n",
        "UNION ALL\n",
        "(SELECT * \n",
        "FROM AQICN.pollutant_diff_monthly_aqi\n",
        "WHERE Parameter = 'o3'\n",
        "ORDER BY aqi_percent_diff_monthly\n",
        "LIMIT 10)\n",
        "UNION ALL\n",
        "(SELECT * \n",
        "FROM AQICN.pollutant_diff_monthly_aqi\n",
        "WHERE Parameter = 'no2'\n",
        "ORDER BY aqi_percent_diff_monthly\n",
        "LIMIT 10)\n",
        "UNION ALL\n",
        "(SELECT * \n",
        "FROM AQICN.pollutant_diff_monthly_aqi\n",
        "WHERE Parameter = 'pm25'\n",
        "ORDER BY aqi_percent_diff_monthly\n",
        "LIMIT 10)\n",
        "UNION ALL\n",
        "(SELECT * \n",
        "FROM AQICN.pollutant_diff_monthly_aqi\n",
        "WHERE Parameter = 'pm10'\n",
        "ORDER BY aqi_percent_diff_monthly\n",
        "LIMIT 10)"
      ],
      "id": "e7871e9c",
      "execution_count": null,
      "outputs": [
        {
          "name": "stderr",
          "output_type": "stream",
          "text": [
            "Query complete after 0.00s: 100%|██████████| 3/3 [00:00<00:00, 1727.47query/s]                        \n"
          ]
        },
        {
          "data": {
            "text/html": [
              "<div>\n",
              "<style scoped>\n",
              "    .dataframe tbody tr th:only-of-type {\n",
              "        vertical-align: middle;\n",
              "    }\n",
              "\n",
              "    .dataframe tbody tr th {\n",
              "        vertical-align: top;\n",
              "    }\n",
              "\n",
              "    .dataframe thead th {\n",
              "        text-align: right;\n",
              "    }\n",
              "</style>\n",
              "<table border=\"1\" class=\"dataframe\">\n",
              "  <thead>\n",
              "    <tr style=\"text-align: right;\">\n",
              "      <th></th>\n",
              "    </tr>\n",
              "  </thead>\n",
              "  <tbody>\n",
              "  </tbody>\n",
              "</table>\n",
              "</div>"
            ],
            "text/plain": [
              "Empty DataFrame\n",
              "Columns: []\n",
              "Index: []"
            ]
          },
          "execution_count": 4,
          "metadata": {},
          "output_type": "execute_result"
        }
      ]
    },
    {
      "cell_type": "code",
      "metadata": {
        "id": "3c00ab3b",
        "outputId": "f81ca602-3306-45bc-f00f-cb39ddacc123"
      },
      "source": [
        "%%bigquery \n",
        "SELECT *\n",
        "FROM AQICN.top_10_cites_most_pollutant_percent_diff_monthly\n",
        "ORDER BY Parameter,aqi_percent_diff_monthly\n",
        "LIMIT 10"
      ],
      "id": "3c00ab3b",
      "execution_count": null,
      "outputs": [
        {
          "name": "stderr",
          "output_type": "stream",
          "text": [
            "Query complete after 0.00s: 100%|██████████| 1/1 [00:00<00:00, 494.55query/s]                          \n",
            "Downloading: 100%|██████████| 10/10 [00:01<00:00,  5.25rows/s]\n"
          ]
        },
        {
          "data": {
            "text/html": [
              "<div>\n",
              "<style scoped>\n",
              "    .dataframe tbody tr th:only-of-type {\n",
              "        vertical-align: middle;\n",
              "    }\n",
              "\n",
              "    .dataframe tbody tr th {\n",
              "        vertical-align: top;\n",
              "    }\n",
              "\n",
              "    .dataframe thead th {\n",
              "        text-align: right;\n",
              "    }\n",
              "</style>\n",
              "<table border=\"1\" class=\"dataframe\">\n",
              "  <thead>\n",
              "    <tr style=\"text-align: right;\">\n",
              "      <th></th>\n",
              "      <th>month_2020</th>\n",
              "      <th>month_2019</th>\n",
              "      <th>Country</th>\n",
              "      <th>City</th>\n",
              "      <th>lat</th>\n",
              "      <th>lon</th>\n",
              "      <th>Parameter</th>\n",
              "      <th>monthly_avg_aqi_2020</th>\n",
              "      <th>monthly_avg_aqi_2019</th>\n",
              "      <th>aqi_diff_monthly</th>\n",
              "      <th>aqi_percent_diff_monthly</th>\n",
              "    </tr>\n",
              "  </thead>\n",
              "  <tbody>\n",
              "    <tr>\n",
              "      <th>0</th>\n",
              "      <td>8</td>\n",
              "      <td>8</td>\n",
              "      <td>US</td>\n",
              "      <td>Portland</td>\n",
              "      <td>45.52345</td>\n",
              "      <td>-122.67621</td>\n",
              "      <td>co</td>\n",
              "      <td>1.8</td>\n",
              "      <td>357.3</td>\n",
              "      <td>-355.5</td>\n",
              "      <td>-99.50</td>\n",
              "    </tr>\n",
              "    <tr>\n",
              "      <th>1</th>\n",
              "      <td>7</td>\n",
              "      <td>7</td>\n",
              "      <td>US</td>\n",
              "      <td>Portland</td>\n",
              "      <td>45.52345</td>\n",
              "      <td>-122.67621</td>\n",
              "      <td>co</td>\n",
              "      <td>1.9</td>\n",
              "      <td>148.5</td>\n",
              "      <td>-146.6</td>\n",
              "      <td>-98.73</td>\n",
              "    </tr>\n",
              "    <tr>\n",
              "      <th>2</th>\n",
              "      <td>10</td>\n",
              "      <td>10</td>\n",
              "      <td>PL</td>\n",
              "      <td>Poznań</td>\n",
              "      <td>52.40692</td>\n",
              "      <td>16.92993</td>\n",
              "      <td>co</td>\n",
              "      <td>0.1</td>\n",
              "      <td>4.4</td>\n",
              "      <td>-4.3</td>\n",
              "      <td>-97.72</td>\n",
              "    </tr>\n",
              "    <tr>\n",
              "      <th>3</th>\n",
              "      <td>12</td>\n",
              "      <td>12</td>\n",
              "      <td>PL</td>\n",
              "      <td>Poznań</td>\n",
              "      <td>52.40692</td>\n",
              "      <td>16.92993</td>\n",
              "      <td>co</td>\n",
              "      <td>0.1</td>\n",
              "      <td>4.1</td>\n",
              "      <td>-4.0</td>\n",
              "      <td>-97.55</td>\n",
              "    </tr>\n",
              "    <tr>\n",
              "      <th>4</th>\n",
              "      <td>9</td>\n",
              "      <td>9</td>\n",
              "      <td>PL</td>\n",
              "      <td>Poznań</td>\n",
              "      <td>52.40692</td>\n",
              "      <td>16.92993</td>\n",
              "      <td>co</td>\n",
              "      <td>0.1</td>\n",
              "      <td>3.6</td>\n",
              "      <td>-3.5</td>\n",
              "      <td>-97.24</td>\n",
              "    </tr>\n",
              "    <tr>\n",
              "      <th>5</th>\n",
              "      <td>6</td>\n",
              "      <td>6</td>\n",
              "      <td>US</td>\n",
              "      <td>Portland</td>\n",
              "      <td>45.52345</td>\n",
              "      <td>-122.67621</td>\n",
              "      <td>co</td>\n",
              "      <td>1.1</td>\n",
              "      <td>40.6</td>\n",
              "      <td>-39.5</td>\n",
              "      <td>-97.17</td>\n",
              "    </tr>\n",
              "    <tr>\n",
              "      <th>6</th>\n",
              "      <td>11</td>\n",
              "      <td>11</td>\n",
              "      <td>PL</td>\n",
              "      <td>Poznań</td>\n",
              "      <td>52.40692</td>\n",
              "      <td>16.92993</td>\n",
              "      <td>co</td>\n",
              "      <td>0.1</td>\n",
              "      <td>2.7</td>\n",
              "      <td>-2.6</td>\n",
              "      <td>-96.28</td>\n",
              "    </tr>\n",
              "    <tr>\n",
              "      <th>7</th>\n",
              "      <td>5</td>\n",
              "      <td>5</td>\n",
              "      <td>TR</td>\n",
              "      <td>Samsun</td>\n",
              "      <td>41.27976</td>\n",
              "      <td>36.33610</td>\n",
              "      <td>co</td>\n",
              "      <td>0.4</td>\n",
              "      <td>8.4</td>\n",
              "      <td>-8.0</td>\n",
              "      <td>-95.45</td>\n",
              "    </tr>\n",
              "    <tr>\n",
              "      <th>8</th>\n",
              "      <td>12</td>\n",
              "      <td>12</td>\n",
              "      <td>SA</td>\n",
              "      <td>Buraydah</td>\n",
              "      <td>26.32599</td>\n",
              "      <td>43.97497</td>\n",
              "      <td>co</td>\n",
              "      <td>1.0</td>\n",
              "      <td>14.0</td>\n",
              "      <td>-13.0</td>\n",
              "      <td>-92.86</td>\n",
              "    </tr>\n",
              "    <tr>\n",
              "      <th>9</th>\n",
              "      <td>9</td>\n",
              "      <td>9</td>\n",
              "      <td>US</td>\n",
              "      <td>Portland</td>\n",
              "      <td>45.52345</td>\n",
              "      <td>-122.67621</td>\n",
              "      <td>co</td>\n",
              "      <td>6.9</td>\n",
              "      <td>85.2</td>\n",
              "      <td>-78.3</td>\n",
              "      <td>-91.95</td>\n",
              "    </tr>\n",
              "  </tbody>\n",
              "</table>\n",
              "</div>"
            ],
            "text/plain": [
              "   month_2020  month_2019 Country      City       lat        lon Parameter  \\\n",
              "0           8           8      US  Portland  45.52345 -122.67621        co   \n",
              "1           7           7      US  Portland  45.52345 -122.67621        co   \n",
              "2          10          10      PL    Poznań  52.40692   16.92993        co   \n",
              "3          12          12      PL    Poznań  52.40692   16.92993        co   \n",
              "4           9           9      PL    Poznań  52.40692   16.92993        co   \n",
              "5           6           6      US  Portland  45.52345 -122.67621        co   \n",
              "6          11          11      PL    Poznań  52.40692   16.92993        co   \n",
              "7           5           5      TR    Samsun  41.27976   36.33610        co   \n",
              "8          12          12      SA  Buraydah  26.32599   43.97497        co   \n",
              "9           9           9      US  Portland  45.52345 -122.67621        co   \n",
              "\n",
              "   monthly_avg_aqi_2020  monthly_avg_aqi_2019  aqi_diff_monthly  \\\n",
              "0                   1.8                 357.3            -355.5   \n",
              "1                   1.9                 148.5            -146.6   \n",
              "2                   0.1                   4.4              -4.3   \n",
              "3                   0.1                   4.1              -4.0   \n",
              "4                   0.1                   3.6              -3.5   \n",
              "5                   1.1                  40.6             -39.5   \n",
              "6                   0.1                   2.7              -2.6   \n",
              "7                   0.4                   8.4              -8.0   \n",
              "8                   1.0                  14.0             -13.0   \n",
              "9                   6.9                  85.2             -78.3   \n",
              "\n",
              "   aqi_percent_diff_monthly  \n",
              "0                    -99.50  \n",
              "1                    -98.73  \n",
              "2                    -97.72  \n",
              "3                    -97.55  \n",
              "4                    -97.24  \n",
              "5                    -97.17  \n",
              "6                    -96.28  \n",
              "7                    -95.45  \n",
              "8                    -92.86  \n",
              "9                    -91.95  "
            ]
          },
          "execution_count": 5,
          "metadata": {},
          "output_type": "execute_result"
        }
      ]
    },
    {
      "cell_type": "markdown",
      "metadata": {
        "id": "7faa1433"
      },
      "source": [
        "Order by monthly average percent AQI difference to find cities having top 10 most air quality index reduction for each pollutant"
      ],
      "id": "7faa1433"
    },
    {
      "cell_type": "code",
      "metadata": {
        "id": "974f06ab",
        "outputId": "071b9fa3-beac-457f-9e6f-614b2f727dde"
      },
      "source": [
        "%%bigquery \n",
        "\n",
        "CREATE OR REPLACE TABLE AQICN.top_10_cites_most_pollutant_diff_monthly\n",
        "AS\n",
        "(SELECT * \n",
        "FROM AQICN.pollutant_diff_monthly_aqi\n",
        "WHERE Parameter = 'pm25'\n",
        "ORDER BY aqi_diff_monthly\n",
        "LIMIT 10)\n",
        "UNION ALL\n",
        "(SELECT * \n",
        "FROM AQICN.pollutant_diff_monthly_aqi\n",
        "WHERE Parameter = 'o3'\n",
        "ORDER BY aqi_diff_monthly\n",
        "LIMIT 10)\n",
        "UNION ALL\n",
        "(SELECT * \n",
        "FROM AQICN.pollutant_diff_monthly_aqi\n",
        "WHERE Parameter = 'pm10'\n",
        "ORDER BY aqi_diff_monthly\n",
        "LIMIT 10)\n",
        "UNION ALL\n",
        "(SELECT * \n",
        "FROM AQICN.pollutant_diff_monthly_aqi\n",
        "WHERE Parameter = 'no2'\n",
        "ORDER BY aqi_diff_monthly\n",
        "LIMIT 10)\n",
        "UNION ALL\n",
        "(SELECT * \n",
        "FROM AQICN.pollutant_diff_monthly_aqi\n",
        "WHERE Parameter = 'so2'\n",
        "ORDER BY aqi_diff_monthly\n",
        "LIMIT 10)\n",
        "UNION ALL\n",
        "(SELECT * \n",
        "FROM AQICN.pollutant_diff_monthly_aqi\n",
        "WHERE Parameter = 'co'\n",
        "ORDER BY aqi_diff_monthly\n",
        "LIMIT 10)"
      ],
      "id": "974f06ab",
      "execution_count": null,
      "outputs": [
        {
          "name": "stderr",
          "output_type": "stream",
          "text": [
            "Query complete after 0.00s: 100%|██████████| 3/3 [00:00<00:00, 1556.52query/s]                        \n"
          ]
        },
        {
          "data": {
            "text/html": [
              "<div>\n",
              "<style scoped>\n",
              "    .dataframe tbody tr th:only-of-type {\n",
              "        vertical-align: middle;\n",
              "    }\n",
              "\n",
              "    .dataframe tbody tr th {\n",
              "        vertical-align: top;\n",
              "    }\n",
              "\n",
              "    .dataframe thead th {\n",
              "        text-align: right;\n",
              "    }\n",
              "</style>\n",
              "<table border=\"1\" class=\"dataframe\">\n",
              "  <thead>\n",
              "    <tr style=\"text-align: right;\">\n",
              "      <th></th>\n",
              "    </tr>\n",
              "  </thead>\n",
              "  <tbody>\n",
              "  </tbody>\n",
              "</table>\n",
              "</div>"
            ],
            "text/plain": [
              "Empty DataFrame\n",
              "Columns: []\n",
              "Index: []"
            ]
          },
          "execution_count": 6,
          "metadata": {},
          "output_type": "execute_result"
        }
      ]
    },
    {
      "cell_type": "code",
      "metadata": {
        "id": "15155d12",
        "outputId": "a5ae0dcf-e426-4cb6-d581-7e38c632daff"
      },
      "source": [
        "%%bigquery \n",
        "SELECT *\n",
        "FROM AQICN.top_10_cites_most_pollutant_diff_monthly\n",
        "ORDER BY Parameter,aqi_diff_monthly\n",
        "LIMIT 10"
      ],
      "id": "15155d12",
      "execution_count": null,
      "outputs": [
        {
          "name": "stderr",
          "output_type": "stream",
          "text": [
            "Query complete after 0.00s: 100%|██████████| 1/1 [00:00<00:00, 446.25query/s]                          \n",
            "Downloading: 100%|██████████| 10/10 [00:01<00:00,  6.48rows/s]\n"
          ]
        },
        {
          "data": {
            "text/html": [
              "<div>\n",
              "<style scoped>\n",
              "    .dataframe tbody tr th:only-of-type {\n",
              "        vertical-align: middle;\n",
              "    }\n",
              "\n",
              "    .dataframe tbody tr th {\n",
              "        vertical-align: top;\n",
              "    }\n",
              "\n",
              "    .dataframe thead th {\n",
              "        text-align: right;\n",
              "    }\n",
              "</style>\n",
              "<table border=\"1\" class=\"dataframe\">\n",
              "  <thead>\n",
              "    <tr style=\"text-align: right;\">\n",
              "      <th></th>\n",
              "      <th>month_2020</th>\n",
              "      <th>month_2019</th>\n",
              "      <th>Country</th>\n",
              "      <th>City</th>\n",
              "      <th>lat</th>\n",
              "      <th>lon</th>\n",
              "      <th>Parameter</th>\n",
              "      <th>monthly_avg_aqi_2020</th>\n",
              "      <th>monthly_avg_aqi_2019</th>\n",
              "      <th>aqi_diff_monthly</th>\n",
              "      <th>aqi_percent_diff_monthly</th>\n",
              "    </tr>\n",
              "  </thead>\n",
              "  <tbody>\n",
              "    <tr>\n",
              "      <th>0</th>\n",
              "      <td>8</td>\n",
              "      <td>8</td>\n",
              "      <td>US</td>\n",
              "      <td>Portland</td>\n",
              "      <td>45.52345</td>\n",
              "      <td>-122.67621</td>\n",
              "      <td>co</td>\n",
              "      <td>1.8</td>\n",
              "      <td>357.3</td>\n",
              "      <td>-355.5</td>\n",
              "      <td>-99.50</td>\n",
              "    </tr>\n",
              "    <tr>\n",
              "      <th>1</th>\n",
              "      <td>7</td>\n",
              "      <td>7</td>\n",
              "      <td>US</td>\n",
              "      <td>Portland</td>\n",
              "      <td>45.52345</td>\n",
              "      <td>-122.67621</td>\n",
              "      <td>co</td>\n",
              "      <td>1.9</td>\n",
              "      <td>148.5</td>\n",
              "      <td>-146.6</td>\n",
              "      <td>-98.73</td>\n",
              "    </tr>\n",
              "    <tr>\n",
              "      <th>2</th>\n",
              "      <td>9</td>\n",
              "      <td>9</td>\n",
              "      <td>US</td>\n",
              "      <td>Portland</td>\n",
              "      <td>45.52345</td>\n",
              "      <td>-122.67621</td>\n",
              "      <td>co</td>\n",
              "      <td>6.9</td>\n",
              "      <td>85.2</td>\n",
              "      <td>-78.3</td>\n",
              "      <td>-91.95</td>\n",
              "    </tr>\n",
              "    <tr>\n",
              "      <th>3</th>\n",
              "      <td>5</td>\n",
              "      <td>5</td>\n",
              "      <td>CL</td>\n",
              "      <td>Talca</td>\n",
              "      <td>-35.42640</td>\n",
              "      <td>-71.65542</td>\n",
              "      <td>co</td>\n",
              "      <td>13.2</td>\n",
              "      <td>55.5</td>\n",
              "      <td>-42.3</td>\n",
              "      <td>-76.24</td>\n",
              "    </tr>\n",
              "    <tr>\n",
              "      <th>4</th>\n",
              "      <td>6</td>\n",
              "      <td>6</td>\n",
              "      <td>US</td>\n",
              "      <td>Portland</td>\n",
              "      <td>45.52345</td>\n",
              "      <td>-122.67621</td>\n",
              "      <td>co</td>\n",
              "      <td>1.1</td>\n",
              "      <td>40.6</td>\n",
              "      <td>-39.5</td>\n",
              "      <td>-97.17</td>\n",
              "    </tr>\n",
              "    <tr>\n",
              "      <th>5</th>\n",
              "      <td>12</td>\n",
              "      <td>12</td>\n",
              "      <td>IR</td>\n",
              "      <td>Yazd</td>\n",
              "      <td>31.89722</td>\n",
              "      <td>54.36750</td>\n",
              "      <td>co</td>\n",
              "      <td>22.1</td>\n",
              "      <td>48.8</td>\n",
              "      <td>-26.7</td>\n",
              "      <td>-54.63</td>\n",
              "    </tr>\n",
              "    <tr>\n",
              "      <th>6</th>\n",
              "      <td>10</td>\n",
              "      <td>10</td>\n",
              "      <td>TR</td>\n",
              "      <td>Bursa</td>\n",
              "      <td>40.19559</td>\n",
              "      <td>29.06013</td>\n",
              "      <td>co</td>\n",
              "      <td>22.7</td>\n",
              "      <td>45.6</td>\n",
              "      <td>-22.9</td>\n",
              "      <td>-50.18</td>\n",
              "    </tr>\n",
              "    <tr>\n",
              "      <th>7</th>\n",
              "      <td>2</td>\n",
              "      <td>2</td>\n",
              "      <td>TR</td>\n",
              "      <td>Erzurum</td>\n",
              "      <td>39.90861</td>\n",
              "      <td>41.27694</td>\n",
              "      <td>co</td>\n",
              "      <td>6.2</td>\n",
              "      <td>27.7</td>\n",
              "      <td>-21.5</td>\n",
              "      <td>-77.60</td>\n",
              "    </tr>\n",
              "    <tr>\n",
              "      <th>8</th>\n",
              "      <td>10</td>\n",
              "      <td>10</td>\n",
              "      <td>MX</td>\n",
              "      <td>Puebla</td>\n",
              "      <td>19.03793</td>\n",
              "      <td>-98.20346</td>\n",
              "      <td>co</td>\n",
              "      <td>10.0</td>\n",
              "      <td>30.9</td>\n",
              "      <td>-20.9</td>\n",
              "      <td>-67.51</td>\n",
              "    </tr>\n",
              "    <tr>\n",
              "      <th>9</th>\n",
              "      <td>9</td>\n",
              "      <td>9</td>\n",
              "      <td>IR</td>\n",
              "      <td>Khorramabad</td>\n",
              "      <td>33.48778</td>\n",
              "      <td>48.35583</td>\n",
              "      <td>co</td>\n",
              "      <td>10.3</td>\n",
              "      <td>29.6</td>\n",
              "      <td>-19.3</td>\n",
              "      <td>-65.28</td>\n",
              "    </tr>\n",
              "  </tbody>\n",
              "</table>\n",
              "</div>"
            ],
            "text/plain": [
              "   month_2020  month_2019 Country         City       lat        lon Parameter  \\\n",
              "0           8           8      US     Portland  45.52345 -122.67621        co   \n",
              "1           7           7      US     Portland  45.52345 -122.67621        co   \n",
              "2           9           9      US     Portland  45.52345 -122.67621        co   \n",
              "3           5           5      CL        Talca -35.42640  -71.65542        co   \n",
              "4           6           6      US     Portland  45.52345 -122.67621        co   \n",
              "5          12          12      IR         Yazd  31.89722   54.36750        co   \n",
              "6          10          10      TR        Bursa  40.19559   29.06013        co   \n",
              "7           2           2      TR      Erzurum  39.90861   41.27694        co   \n",
              "8          10          10      MX       Puebla  19.03793  -98.20346        co   \n",
              "9           9           9      IR  Khorramabad  33.48778   48.35583        co   \n",
              "\n",
              "   monthly_avg_aqi_2020  monthly_avg_aqi_2019  aqi_diff_monthly  \\\n",
              "0                   1.8                 357.3            -355.5   \n",
              "1                   1.9                 148.5            -146.6   \n",
              "2                   6.9                  85.2             -78.3   \n",
              "3                  13.2                  55.5             -42.3   \n",
              "4                   1.1                  40.6             -39.5   \n",
              "5                  22.1                  48.8             -26.7   \n",
              "6                  22.7                  45.6             -22.9   \n",
              "7                   6.2                  27.7             -21.5   \n",
              "8                  10.0                  30.9             -20.9   \n",
              "9                  10.3                  29.6             -19.3   \n",
              "\n",
              "   aqi_percent_diff_monthly  \n",
              "0                    -99.50  \n",
              "1                    -98.73  \n",
              "2                    -91.95  \n",
              "3                    -76.24  \n",
              "4                    -97.17  \n",
              "5                    -54.63  \n",
              "6                    -50.18  \n",
              "7                    -77.60  \n",
              "8                    -67.51  \n",
              "9                    -65.28  "
            ]
          },
          "execution_count": 7,
          "metadata": {},
          "output_type": "execute_result"
        }
      ]
    },
    {
      "cell_type": "markdown",
      "metadata": {
        "id": "bc15b0b7"
      },
      "source": [
        "#### 2. Cities with more than 50 percent AQI decrease and 50 AQI decrease for each air pollutants"
      ],
      "id": "bc15b0b7"
    },
    {
      "cell_type": "markdown",
      "metadata": {
        "id": "5467335a"
      },
      "source": [
        "Reason: the higher the AQI, the unhealthier the air will be, especially for sensitive groups such as people with heart and lung disease, elders and children. A major reduction or percent reduction in AQI for long period of time implies a high air quality impact from the  COIVD pandemic."
      ],
      "id": "5467335a"
    },
    {
      "cell_type": "code",
      "metadata": {
        "id": "4edc8932",
        "outputId": "aafb3775-2cbc-47b6-e37f-ac1fddaf3dfb"
      },
      "source": [
        "%%bigquery\n",
        "\n",
        "SELECT City,Country,Parameter,COUNT(*) AS num_month_mt_50_per_decrease FROM AQICN.pollutant_diff_monthly_aqi\n",
        "WHERE aqi_percent_diff_monthly < -50 AND aqi_diff_monthly < -50\n",
        "GROUP BY City,Country,Parameter\n",
        "ORDER BY Parameter,COUNT(*) DESC\n",
        "LIMIT 10"
      ],
      "id": "4edc8932",
      "execution_count": null,
      "outputs": [
        {
          "name": "stderr",
          "output_type": "stream",
          "text": [
            "Query complete after 0.00s: 100%|██████████| 1/1 [00:00<00:00, 881.71query/s] \n",
            "Downloading: 100%|██████████| 10/10 [00:01<00:00,  6.79rows/s]\n"
          ]
        },
        {
          "data": {
            "text/html": [
              "<div>\n",
              "<style scoped>\n",
              "    .dataframe tbody tr th:only-of-type {\n",
              "        vertical-align: middle;\n",
              "    }\n",
              "\n",
              "    .dataframe tbody tr th {\n",
              "        vertical-align: top;\n",
              "    }\n",
              "\n",
              "    .dataframe thead th {\n",
              "        text-align: right;\n",
              "    }\n",
              "</style>\n",
              "<table border=\"1\" class=\"dataframe\">\n",
              "  <thead>\n",
              "    <tr style=\"text-align: right;\">\n",
              "      <th></th>\n",
              "      <th>City</th>\n",
              "      <th>Country</th>\n",
              "      <th>Parameter</th>\n",
              "      <th>num_month_mt_50_per_decrease</th>\n",
              "    </tr>\n",
              "  </thead>\n",
              "  <tbody>\n",
              "    <tr>\n",
              "      <th>0</th>\n",
              "      <td>Portland</td>\n",
              "      <td>US</td>\n",
              "      <td>co</td>\n",
              "      <td>3</td>\n",
              "    </tr>\n",
              "    <tr>\n",
              "      <th>1</th>\n",
              "      <td>Qom</td>\n",
              "      <td>IR</td>\n",
              "      <td>no2</td>\n",
              "      <td>5</td>\n",
              "    </tr>\n",
              "    <tr>\n",
              "      <th>2</th>\n",
              "      <td>Shiraz</td>\n",
              "      <td>IR</td>\n",
              "      <td>no2</td>\n",
              "      <td>4</td>\n",
              "    </tr>\n",
              "    <tr>\n",
              "      <th>3</th>\n",
              "      <td>Khorramabad</td>\n",
              "      <td>IR</td>\n",
              "      <td>no2</td>\n",
              "      <td>3</td>\n",
              "    </tr>\n",
              "    <tr>\n",
              "      <th>4</th>\n",
              "      <td>Kayseri</td>\n",
              "      <td>TR</td>\n",
              "      <td>no2</td>\n",
              "      <td>3</td>\n",
              "    </tr>\n",
              "    <tr>\n",
              "      <th>5</th>\n",
              "      <td>Sivas</td>\n",
              "      <td>TR</td>\n",
              "      <td>no2</td>\n",
              "      <td>1</td>\n",
              "    </tr>\n",
              "    <tr>\n",
              "      <th>6</th>\n",
              "      <td>Butuan</td>\n",
              "      <td>PH</td>\n",
              "      <td>no2</td>\n",
              "      <td>1</td>\n",
              "    </tr>\n",
              "    <tr>\n",
              "      <th>7</th>\n",
              "      <td>Aguascalientes</td>\n",
              "      <td>MX</td>\n",
              "      <td>o3</td>\n",
              "      <td>5</td>\n",
              "    </tr>\n",
              "    <tr>\n",
              "      <th>8</th>\n",
              "      <td>Brooklyn</td>\n",
              "      <td>US</td>\n",
              "      <td>o3</td>\n",
              "      <td>4</td>\n",
              "    </tr>\n",
              "    <tr>\n",
              "      <th>9</th>\n",
              "      <td>The Bronx</td>\n",
              "      <td>US</td>\n",
              "      <td>o3</td>\n",
              "      <td>2</td>\n",
              "    </tr>\n",
              "  </tbody>\n",
              "</table>\n",
              "</div>"
            ],
            "text/plain": [
              "             City Country Parameter  num_month_mt_50_per_decrease\n",
              "0        Portland      US        co                             3\n",
              "1             Qom      IR       no2                             5\n",
              "2          Shiraz      IR       no2                             4\n",
              "3     Khorramabad      IR       no2                             3\n",
              "4         Kayseri      TR       no2                             3\n",
              "5           Sivas      TR       no2                             1\n",
              "6          Butuan      PH       no2                             1\n",
              "7  Aguascalientes      MX        o3                             5\n",
              "8        Brooklyn      US        o3                             4\n",
              "9       The Bronx      US        o3                             2"
            ]
          },
          "execution_count": 9,
          "metadata": {},
          "output_type": "execute_result"
        }
      ]
    },
    {
      "cell_type": "markdown",
      "metadata": {
        "id": "07c523b2"
      },
      "source": [
        "---"
      ],
      "id": "07c523b2"
    },
    {
      "cell_type": "markdown",
      "metadata": {
        "id": "80525a44"
      },
      "source": [
        "Results\n",
        "\n",
        "During the pandemic, cities getting most air qualities improvements in terms of percent AQI differences for each pollutant are:\n",
        "\n",
        "CO: United States Portland, Chile Talca and Mexico Aguascalientes;\n",
        "NO2: Iran Qom, South Africa Middelburg and Philippines Butuan;\n",
        "SO2: Greece Athens, Mexico Mérida and Mexico San Luis Potosí;\n",
        "Ozone: Mexico Aguascalientes, United States Queens and United States The Bronx;\n",
        "PM 10: India Gandhinagar, China Hohhot and Israel Tel Aviv;\n",
        "PM 2.5: Mexico Mérida, Tajikistan Dushanbe, Bosnia and Herzegovina Sarajevo, Turkey Erzurum, China Qiqihar and India Gandhinagar;\n",
        "\n",
        "\n",
        "Cities getting at least 50% and 50 AQI reduction with longest time:\n",
        "\n",
        "CO: United States Portland, 3 out of 12 months;\n",
        "NO2: Iran Qom, 5 out of 12 months;\n",
        "O3: Mexico Aguascalientes, 5 out of 12 months;\n",
        "PM25: several cities including Iran Kermanshah, Singapore Singapore, AU Sydney and Canberra, 1 out of 12 months;\n",
        "PM10: India Gandhinagar and Bhopal, 2 out of 12 months;\n",
        "SO2: Mexico Mérida 5 out of 12 months.\n"
      ],
      "id": "80525a44"
    },
    {
      "cell_type": "markdown",
      "metadata": {
        "id": "523ee2c5"
      },
      "source": [
        "---"
      ],
      "id": "523ee2c5"
    },
    {
      "cell_type": "markdown",
      "metadata": {
        "id": "c67831dd"
      },
      "source": [
        "### V: Regression analysis on COVID-19 cases and pollutant Air Quality Index Globally"
      ],
      "id": "c67831dd"
    },
    {
      "cell_type": "markdown",
      "metadata": {
        "id": "7ebb5315"
      },
      "source": [
        "The purpose of this part is to find the differences in AQI between 2019 and 2020, also the percentage changes for four parameters which include (NO,NO2,PM2.5 and O3), then join with the COVID confirmed table to find the regression between the AQI and the new confirmed case for each air pollutant."
      ],
      "id": "7ebb5315"
    },
    {
      "cell_type": "code",
      "metadata": {
        "id": "980e1634",
        "outputId": "a24a1216-cac8-4434-e7be-fd3bc97a1193"
      },
      "source": [
        "%%bigquery\n",
        "select A.month,A.month_n, A.country,A.parameter,round((B.avg_median_month- A.avg_median_month),2) as diff_avg,\n",
        "(B.avg_median_month - A.avg_median_month)/A.avg_median_month as diff_perc\n",
        "from \n",
        "(SELECT FORMAT_DATETIME(\"%B\", date) month,EXTRACT(year FROM date) year, EXTRACT(month FROM date) month_n, country,parameter,round(avg(median),2) as avg_median_month \n",
        "FROM `AQICN.Arpit_Cleaned_Data2`\n",
        "WHERE Parameter IN ('co','no2','o3','pm25') AND EXTRACT(year FROM date) = 2019\n",
        "GROUP by 1,2,3,4,5\n",
        "ORDER BY country, parameter) A\n",
        "left join \n",
        "(SELECT FORMAT_DATETIME(\"%B\", date) month,EXTRACT(year FROM date) year, EXTRACT(month FROM date) month_n, country,parameter,round(avg(median),2) as avg_median_month \n",
        "FROM `AQICN.Arpit_Cleaned_Data2`\n",
        "WHERE Parameter IN ('co','no2','o3','pm25') AND EXTRACT(year FROM date) = 2020\n",
        "GROUP by 1,2,3,4,5\n",
        "ORDER BY country, parameter) B\n",
        "using (month,country,parameter,month_n)\n",
        "where A.avg_median_month >0"
      ],
      "id": "980e1634",
      "execution_count": null,
      "outputs": [
        {
          "name": "stderr",
          "output_type": "stream",
          "text": [
            "Query complete after 0.00s: 100%|██████████| 5/5 [00:00<00:00, 2448.51query/s]                        \n",
            "Downloading: 100%|██████████| 2906/2906 [00:01<00:00, 1788.29rows/s]\n"
          ]
        },
        {
          "data": {
            "text/html": [
              "<div>\n",
              "<style scoped>\n",
              "    .dataframe tbody tr th:only-of-type {\n",
              "        vertical-align: middle;\n",
              "    }\n",
              "\n",
              "    .dataframe tbody tr th {\n",
              "        vertical-align: top;\n",
              "    }\n",
              "\n",
              "    .dataframe thead th {\n",
              "        text-align: right;\n",
              "    }\n",
              "</style>\n",
              "<table border=\"1\" class=\"dataframe\">\n",
              "  <thead>\n",
              "    <tr style=\"text-align: right;\">\n",
              "      <th></th>\n",
              "      <th>month</th>\n",
              "      <th>month_n</th>\n",
              "      <th>country</th>\n",
              "      <th>parameter</th>\n",
              "      <th>diff_avg</th>\n",
              "      <th>diff_perc</th>\n",
              "    </tr>\n",
              "  </thead>\n",
              "  <tbody>\n",
              "    <tr>\n",
              "      <th>0</th>\n",
              "      <td>January</td>\n",
              "      <td>1</td>\n",
              "      <td>AE</td>\n",
              "      <td>pm25</td>\n",
              "      <td>-57.01</td>\n",
              "      <td>-0.522261</td>\n",
              "    </tr>\n",
              "    <tr>\n",
              "      <th>1</th>\n",
              "      <td>January</td>\n",
              "      <td>1</td>\n",
              "      <td>AE</td>\n",
              "      <td>o3</td>\n",
              "      <td>-6.49</td>\n",
              "      <td>-0.280346</td>\n",
              "    </tr>\n",
              "    <tr>\n",
              "      <th>2</th>\n",
              "      <td>January</td>\n",
              "      <td>1</td>\n",
              "      <td>AE</td>\n",
              "      <td>no2</td>\n",
              "      <td>1.73</td>\n",
              "      <td>0.126647</td>\n",
              "    </tr>\n",
              "    <tr>\n",
              "      <th>3</th>\n",
              "      <td>February</td>\n",
              "      <td>2</td>\n",
              "      <td>AE</td>\n",
              "      <td>pm25</td>\n",
              "      <td>-8.46</td>\n",
              "      <td>-0.091598</td>\n",
              "    </tr>\n",
              "    <tr>\n",
              "      <th>4</th>\n",
              "      <td>March</td>\n",
              "      <td>3</td>\n",
              "      <td>AE</td>\n",
              "      <td>pm25</td>\n",
              "      <td>-19.36</td>\n",
              "      <td>-0.190965</td>\n",
              "    </tr>\n",
              "    <tr>\n",
              "      <th>...</th>\n",
              "      <td>...</td>\n",
              "      <td>...</td>\n",
              "      <td>...</td>\n",
              "      <td>...</td>\n",
              "      <td>...</td>\n",
              "      <td>...</td>\n",
              "    </tr>\n",
              "    <tr>\n",
              "      <th>2901</th>\n",
              "      <td>November</td>\n",
              "      <td>11</td>\n",
              "      <td>ZA</td>\n",
              "      <td>co</td>\n",
              "      <td>2.54</td>\n",
              "      <td>0.314356</td>\n",
              "    </tr>\n",
              "    <tr>\n",
              "      <th>2902</th>\n",
              "      <td>December</td>\n",
              "      <td>12</td>\n",
              "      <td>ZA</td>\n",
              "      <td>o3</td>\n",
              "      <td>-0.87</td>\n",
              "      <td>-0.098083</td>\n",
              "    </tr>\n",
              "    <tr>\n",
              "      <th>2903</th>\n",
              "      <td>December</td>\n",
              "      <td>12</td>\n",
              "      <td>ZA</td>\n",
              "      <td>pm25</td>\n",
              "      <td>-1.50</td>\n",
              "      <td>-0.039630</td>\n",
              "    </tr>\n",
              "    <tr>\n",
              "      <th>2904</th>\n",
              "      <td>December</td>\n",
              "      <td>12</td>\n",
              "      <td>ZA</td>\n",
              "      <td>no2</td>\n",
              "      <td>-0.11</td>\n",
              "      <td>-0.027990</td>\n",
              "    </tr>\n",
              "    <tr>\n",
              "      <th>2905</th>\n",
              "      <td>December</td>\n",
              "      <td>12</td>\n",
              "      <td>ZA</td>\n",
              "      <td>co</td>\n",
              "      <td>1.50</td>\n",
              "      <td>0.412088</td>\n",
              "    </tr>\n",
              "  </tbody>\n",
              "</table>\n",
              "<p>2906 rows × 6 columns</p>\n",
              "</div>"
            ],
            "text/plain": [
              "         month  month_n country parameter  diff_avg  diff_perc\n",
              "0      January        1      AE      pm25    -57.01  -0.522261\n",
              "1      January        1      AE        o3     -6.49  -0.280346\n",
              "2      January        1      AE       no2      1.73   0.126647\n",
              "3     February        2      AE      pm25     -8.46  -0.091598\n",
              "4        March        3      AE      pm25    -19.36  -0.190965\n",
              "...        ...      ...     ...       ...       ...        ...\n",
              "2901  November       11      ZA        co      2.54   0.314356\n",
              "2902  December       12      ZA        o3     -0.87  -0.098083\n",
              "2903  December       12      ZA      pm25     -1.50  -0.039630\n",
              "2904  December       12      ZA       no2     -0.11  -0.027990\n",
              "2905  December       12      ZA        co      1.50   0.412088\n",
              "\n",
              "[2906 rows x 6 columns]"
            ]
          },
          "execution_count": 28,
          "metadata": {},
          "output_type": "execute_result"
        }
      ]
    },
    {
      "cell_type": "code",
      "metadata": {
        "id": "e460131a",
        "outputId": "e535a912-68a3-481f-85f6-1b1248a407aa"
      },
      "source": [
        "%%bigquery\n",
        "select A.*,confirmed,B.country as country_name\n",
        "from `all_para_20_19.all_para_20_19_diff` as A\n",
        "inner join `covid_population.covid _pop` as B\n",
        "on A.country = B.country_code2 and A.month = B.month and A.month_n = B.month_n\n",
        "where B.year = 2020\n",
        "order by A.country,A.month_n"
      ],
      "id": "e460131a",
      "execution_count": null,
      "outputs": [
        {
          "name": "stderr",
          "output_type": "stream",
          "text": [
            "Query complete after 0.00s: 100%|██████████| 3/3 [00:00<00:00, 1451.15query/s]                        \n",
            "Downloading: 100%|██████████| 2789/2789 [00:01<00:00, 1960.44rows/s]\n"
          ]
        },
        {
          "data": {
            "text/html": [
              "<div>\n",
              "<style scoped>\n",
              "    .dataframe tbody tr th:only-of-type {\n",
              "        vertical-align: middle;\n",
              "    }\n",
              "\n",
              "    .dataframe tbody tr th {\n",
              "        vertical-align: top;\n",
              "    }\n",
              "\n",
              "    .dataframe thead th {\n",
              "        text-align: right;\n",
              "    }\n",
              "</style>\n",
              "<table border=\"1\" class=\"dataframe\">\n",
              "  <thead>\n",
              "    <tr style=\"text-align: right;\">\n",
              "      <th></th>\n",
              "      <th>month</th>\n",
              "      <th>month_n</th>\n",
              "      <th>country</th>\n",
              "      <th>parameter</th>\n",
              "      <th>diff_avg</th>\n",
              "      <th>diff_perc</th>\n",
              "      <th>confirmed</th>\n",
              "      <th>country_name</th>\n",
              "    </tr>\n",
              "  </thead>\n",
              "  <tbody>\n",
              "    <tr>\n",
              "      <th>0</th>\n",
              "      <td>January</td>\n",
              "      <td>1</td>\n",
              "      <td>AE</td>\n",
              "      <td>o3</td>\n",
              "      <td>-6.49</td>\n",
              "      <td>-0.280346</td>\n",
              "      <td>9.0</td>\n",
              "      <td>United Arab Emirates</td>\n",
              "    </tr>\n",
              "    <tr>\n",
              "      <th>1</th>\n",
              "      <td>January</td>\n",
              "      <td>1</td>\n",
              "      <td>AE</td>\n",
              "      <td>no2</td>\n",
              "      <td>1.73</td>\n",
              "      <td>0.126647</td>\n",
              "      <td>9.0</td>\n",
              "      <td>United Arab Emirates</td>\n",
              "    </tr>\n",
              "    <tr>\n",
              "      <th>2</th>\n",
              "      <td>January</td>\n",
              "      <td>1</td>\n",
              "      <td>AE</td>\n",
              "      <td>pm25</td>\n",
              "      <td>-57.01</td>\n",
              "      <td>-0.522261</td>\n",
              "      <td>9.0</td>\n",
              "      <td>United Arab Emirates</td>\n",
              "    </tr>\n",
              "    <tr>\n",
              "      <th>3</th>\n",
              "      <td>February</td>\n",
              "      <td>2</td>\n",
              "      <td>AE</td>\n",
              "      <td>pm25</td>\n",
              "      <td>-8.46</td>\n",
              "      <td>-0.091598</td>\n",
              "      <td>16.0</td>\n",
              "      <td>United Arab Emirates</td>\n",
              "    </tr>\n",
              "    <tr>\n",
              "      <th>4</th>\n",
              "      <td>March</td>\n",
              "      <td>3</td>\n",
              "      <td>AE</td>\n",
              "      <td>o3</td>\n",
              "      <td>3.74</td>\n",
              "      <td>0.255639</td>\n",
              "      <td>789.0</td>\n",
              "      <td>United Arab Emirates</td>\n",
              "    </tr>\n",
              "    <tr>\n",
              "      <th>...</th>\n",
              "      <td>...</td>\n",
              "      <td>...</td>\n",
              "      <td>...</td>\n",
              "      <td>...</td>\n",
              "      <td>...</td>\n",
              "      <td>...</td>\n",
              "      <td>...</td>\n",
              "      <td>...</td>\n",
              "    </tr>\n",
              "    <tr>\n",
              "      <th>2784</th>\n",
              "      <td>November</td>\n",
              "      <td>11</td>\n",
              "      <td>ZA</td>\n",
              "      <td>pm25</td>\n",
              "      <td>-0.94</td>\n",
              "      <td>-0.024208</td>\n",
              "      <td>65476.0</td>\n",
              "      <td>South Africa</td>\n",
              "    </tr>\n",
              "    <tr>\n",
              "      <th>2785</th>\n",
              "      <td>December</td>\n",
              "      <td>12</td>\n",
              "      <td>ZA</td>\n",
              "      <td>co</td>\n",
              "      <td>1.50</td>\n",
              "      <td>0.412088</td>\n",
              "      <td>265262.0</td>\n",
              "      <td>South Africa</td>\n",
              "    </tr>\n",
              "    <tr>\n",
              "      <th>2786</th>\n",
              "      <td>December</td>\n",
              "      <td>12</td>\n",
              "      <td>ZA</td>\n",
              "      <td>o3</td>\n",
              "      <td>-0.87</td>\n",
              "      <td>-0.098083</td>\n",
              "      <td>265262.0</td>\n",
              "      <td>South Africa</td>\n",
              "    </tr>\n",
              "    <tr>\n",
              "      <th>2787</th>\n",
              "      <td>December</td>\n",
              "      <td>12</td>\n",
              "      <td>ZA</td>\n",
              "      <td>no2</td>\n",
              "      <td>-0.11</td>\n",
              "      <td>-0.027990</td>\n",
              "      <td>265262.0</td>\n",
              "      <td>South Africa</td>\n",
              "    </tr>\n",
              "    <tr>\n",
              "      <th>2788</th>\n",
              "      <td>December</td>\n",
              "      <td>12</td>\n",
              "      <td>ZA</td>\n",
              "      <td>pm25</td>\n",
              "      <td>-1.50</td>\n",
              "      <td>-0.039630</td>\n",
              "      <td>265262.0</td>\n",
              "      <td>South Africa</td>\n",
              "    </tr>\n",
              "  </tbody>\n",
              "</table>\n",
              "<p>2789 rows × 8 columns</p>\n",
              "</div>"
            ],
            "text/plain": [
              "         month  month_n country parameter  diff_avg  diff_perc  confirmed  \\\n",
              "0      January        1      AE        o3     -6.49  -0.280346        9.0   \n",
              "1      January        1      AE       no2      1.73   0.126647        9.0   \n",
              "2      January        1      AE      pm25    -57.01  -0.522261        9.0   \n",
              "3     February        2      AE      pm25     -8.46  -0.091598       16.0   \n",
              "4        March        3      AE        o3      3.74   0.255639      789.0   \n",
              "...        ...      ...     ...       ...       ...        ...        ...   \n",
              "2784  November       11      ZA      pm25     -0.94  -0.024208    65476.0   \n",
              "2785  December       12      ZA        co      1.50   0.412088   265262.0   \n",
              "2786  December       12      ZA        o3     -0.87  -0.098083   265262.0   \n",
              "2787  December       12      ZA       no2     -0.11  -0.027990   265262.0   \n",
              "2788  December       12      ZA      pm25     -1.50  -0.039630   265262.0   \n",
              "\n",
              "              country_name  \n",
              "0     United Arab Emirates  \n",
              "1     United Arab Emirates  \n",
              "2     United Arab Emirates  \n",
              "3     United Arab Emirates  \n",
              "4     United Arab Emirates  \n",
              "...                    ...  \n",
              "2784          South Africa  \n",
              "2785          South Africa  \n",
              "2786          South Africa  \n",
              "2787          South Africa  \n",
              "2788          South Africa  \n",
              "\n",
              "[2789 rows x 8 columns]"
            ]
          },
          "execution_count": 30,
          "metadata": {},
          "output_type": "execute_result"
        }
      ]
    },
    {
      "cell_type": "markdown",
      "metadata": {
        "id": "e0b6cc23"
      },
      "source": [
        "Using Bigquery ML to find liner regression between diff_avg for each parameter and confirmed cases\n",
        "\n",
        "(Example showing below is that parameter = co; x = confirmed; y=diff_avg --AQI changes)"
      ],
      "id": "e0b6cc23"
    },
    {
      "cell_type": "code",
      "metadata": {
        "id": "b07c9cc3"
      },
      "source": [
        "%%bigquery\n",
        "CREATE OR REPLACE MODEL `all_para_20_19.all_para_20_19_diff_covid_model`\n",
        "# Specify options\n",
        "OPTIONS\n",
        "  (model_type='linear_reg',\n",
        "    input_label_cols=['diff_avg']) AS\n",
        "# Provide training data\n",
        "SELECT\n",
        "confirmed,\n",
        "diff_avg\n",
        "FROM\n",
        "  `all_para_20_19.all_para_20_19_diff_covid`\n",
        "WHERE\n",
        "  parameter = 'co'\n",
        "and diff_avg is not null\n"
      ],
      "id": "b07c9cc3",
      "execution_count": null,
      "outputs": []
    },
    {
      "cell_type": "markdown",
      "metadata": {
        "id": "cee74a01"
      },
      "source": [
        "Evaluating the model to find out r2_score for each monthly average air pollutant AQI changes vs monthly confirmed new cases linear regression model.\n",
        "Example showing below is Evaluation for country level monthly average CO AQI vs monthly new confirmed COVID cases model: "
      ],
      "id": "cee74a01"
    },
    {
      "cell_type": "code",
      "metadata": {
        "id": "48e259ce",
        "outputId": "9bf46e67-7341-4eb1-f8d5-8fce6e2d97f5"
      },
      "source": [
        "%%bigquery\n",
        "SELECT * FROM\n",
        "ML.EVALUATE(\n",
        "  MODEL `all_para_20_19.all_para_20_19_diff_covid_model`, # Model name\n",
        "  # Table to evaluate against\n",
        "  (SELECT\n",
        "confirmed,\n",
        "diff_avg\n",
        "FROM\n",
        "  `all_para_20_19.all_para_20_19_diff_covid`\n",
        "WHERE\n",
        "  parameter = 'co'\n",
        "and diff_avg is not null\n",
        "  \n",
        "  )\n",
        ")"
      ],
      "id": "48e259ce",
      "execution_count": null,
      "outputs": [
        {
          "name": "stderr",
          "output_type": "stream",
          "text": [
            "Query complete after 0.00s: 100%|██████████| 3/3 [00:00<00:00, 1508.20query/s]                        \n",
            "Downloading: 100%|██████████| 1/1 [00:01<00:00,  1.86s/rows]\n"
          ]
        },
        {
          "data": {
            "text/html": [
              "<div>\n",
              "<style scoped>\n",
              "    .dataframe tbody tr th:only-of-type {\n",
              "        vertical-align: middle;\n",
              "    }\n",
              "\n",
              "    .dataframe tbody tr th {\n",
              "        vertical-align: top;\n",
              "    }\n",
              "\n",
              "    .dataframe thead th {\n",
              "        text-align: right;\n",
              "    }\n",
              "</style>\n",
              "<table border=\"1\" class=\"dataframe\">\n",
              "  <thead>\n",
              "    <tr style=\"text-align: right;\">\n",
              "      <th></th>\n",
              "      <th>mean_absolute_error</th>\n",
              "      <th>mean_squared_error</th>\n",
              "      <th>mean_squared_log_error</th>\n",
              "      <th>median_absolute_error</th>\n",
              "      <th>r2_score</th>\n",
              "      <th>explained_variance</th>\n",
              "    </tr>\n",
              "  </thead>\n",
              "  <tbody>\n",
              "    <tr>\n",
              "      <th>0</th>\n",
              "      <td>1.774321</td>\n",
              "      <td>19.836883</td>\n",
              "      <td>0.925992</td>\n",
              "      <td>0.691603</td>\n",
              "      <td>0.004894</td>\n",
              "      <td>0.005452</td>\n",
              "    </tr>\n",
              "  </tbody>\n",
              "</table>\n",
              "</div>"
            ],
            "text/plain": [
              "   mean_absolute_error  mean_squared_error  mean_squared_log_error  \\\n",
              "0             1.774321           19.836883                0.925992   \n",
              "\n",
              "   median_absolute_error  r2_score  explained_variance  \n",
              "0               0.691603  0.004894            0.005452  "
            ]
          },
          "execution_count": 23,
          "metadata": {},
          "output_type": "execute_result"
        }
      ]
    },
    {
      "cell_type": "markdown",
      "metadata": {
        "id": "ba2654a2"
      },
      "source": [
        "Evaluation for country level monthly average PM2.5 AQI changes vs monthly new confirmed COVID cases model: "
      ],
      "id": "ba2654a2"
    },
    {
      "cell_type": "markdown",
      "metadata": {
        "id": "98003a1a"
      },
      "source": [
        "<img src=\"https://github.com/ttcao63/775team_project_b2_t2/blob/main/pm25_aqi_confirmed_case.png?raw=true\" align=\"center\" width=\"800\"/>"
      ],
      "id": "98003a1a"
    },
    {
      "cell_type": "markdown",
      "metadata": {
        "id": "c0d6455e"
      },
      "source": [
        "Evaluation for country level monthly average NO2 AQI changes vs monthly new confirmed COVID cases model: "
      ],
      "id": "c0d6455e"
    },
    {
      "cell_type": "markdown",
      "metadata": {
        "id": "a8ead05d"
      },
      "source": [
        "<img src=\"https://github.com/ttcao63/775team_project_b2_t2/blob/main/no2_aqi_confirmed_case.png?raw=true\" align=\"center\" width=\"800\"/>"
      ],
      "id": "a8ead05d"
    },
    {
      "cell_type": "markdown",
      "metadata": {
        "id": "dff1ecbf"
      },
      "source": [
        "Evaluation for country level monthly average O3 AQI changes vs monthly new confirmed COVID cases model: "
      ],
      "id": "dff1ecbf"
    },
    {
      "cell_type": "markdown",
      "metadata": {
        "id": "d0bfcc50"
      },
      "source": [
        "<img src=\"https://github.com/ttcao63/775team_project_b2_t2/blob/main/o3_aqi_confirmed_case.png?raw=true\" align=\"center\" width=\"800\"/>"
      ],
      "id": "d0bfcc50"
    },
    {
      "cell_type": "markdown",
      "metadata": {
        "id": "4a465f10"
      },
      "source": [
        "We have also conducted log transformation of x-variables for linear regression, the most correlated data is PM 2.5 AQI changes vs LOG(confirmed case). Visualization is shown below."
      ],
      "id": "4a465f10"
    },
    {
      "cell_type": "markdown",
      "metadata": {
        "id": "e4b69e96"
      },
      "source": [
        "<img src=\"https://github.com/ttcao63/775team_project_b2_t2/blob/main/Viz_PM25_Regression.png?raw=true\" align=\"center\" width=\"800\"/>"
      ],
      "id": "e4b69e96"
    },
    {
      "cell_type": "markdown",
      "metadata": {
        "id": "50c6e1d1"
      },
      "source": [
        "We can see an overall AQI changes from 2019 to 2020. However, after running regression for four air pollutants, model R-squares are less than 0.02, indicating a weak linear relationship between the air quality index changes and the numbers of new confirmed COVID cases. The result makes sense because there are complicated physical and chemical process involved in formation and transportation of air pollution, thus factors such as the weather, energy source, and terrain could also impact the AQI changes. Also, the dramatic increase of new COVID cases might not affect people's response in a way reducing outdoor activities, especially when \"stay at home order\" is partially lifted.\n",
        "\n",
        "In this case, we decide to specifically study some countries during their lockdown period and examine the AQI changes."
      ],
      "id": "50c6e1d1"
    },
    {
      "cell_type": "markdown",
      "metadata": {
        "id": "01a71fea"
      },
      "source": [
        "---"
      ],
      "id": "01a71fea"
    },
    {
      "cell_type": "markdown",
      "metadata": {
        "id": "4e40b413"
      },
      "source": [
        "### VI: When were lockdowns implemented for each country? "
      ],
      "id": "4e40b413"
    },
    {
      "cell_type": "markdown",
      "metadata": {
        "id": "c2456d4a"
      },
      "source": [
        "Lockdown Dates per Country\n",
        "\n",
        "China: Jan 23 - April 8, 2020 (Wuhan 76 day lockdown)\n",
        "\n",
        "USA: March 19 - April 7, 2020 \n",
        "\n",
        "Italy: March 9 - May 18, 2020\n",
        "\n",
        "Taiwan: No lockdowns in 2020. Lockdown started in July 2021. \n",
        "\n",
        "Australia: March 18 - May/June 2020\n",
        "\n",
        "New Zealand: March 25 - May/June 2020"
      ],
      "id": "c2456d4a"
    },
    {
      "cell_type": "markdown",
      "metadata": {
        "id": "9f91163b"
      },
      "source": [
        "The purpose of this question is to narrow down the dates of our pollutant data in order to compare the pollutant levels in 2019 and 2020 for the countries where COVID-19 was most prevalent: China, USA, Italy, and those that COVID-19 wasn't as prevalent: Taiwan, Australia, and New Zealand. This was done by first finding the respective lockdown periods for the countries listed, then coming to a conclusion that most lockdown periods started from mid March to April, May, or June, except for China, which started their lockdown late January until April of 2020. To generalize the lockdown dates for countries other than China, the SQL query included dates from the beginning of March to the end of June. As for China, the query included specific dates from January 23 to April 8th of 2020, which is the Wuhan 76 day lockdown. "
      ],
      "id": "9f91163b"
    },
    {
      "cell_type": "code",
      "metadata": {
        "id": "0936e8bd",
        "outputId": "76e2b341-3cbe-482b-efff-2bea41838723"
      },
      "source": [
        "%%bigquery\n",
        "SELECT country, date, parameter, AVG(count) AS air_quality\n",
        "FROM `ba775-team2-b2.AQICN.air_quality_data`\n",
        "WHERE date BETWEEN '2020-03-01' AND '2020-06-30'\n",
        "AND country in ('US','IT','AU','NZ','TW')\n",
        "GROUP BY country, parameter, date\n",
        "ORDER BY date"
      ],
      "id": "0936e8bd",
      "execution_count": null,
      "outputs": [
        {
          "name": "stderr",
          "output_type": "stream",
          "text": [
            "Query complete after 0.00s: 100%|██████████| 1/1 [00:00<00:00, 866.23query/s] \n",
            "Downloading: 100%|██████████| 7741/7741 [00:01<00:00, 4628.58rows/s]\n"
          ]
        },
        {
          "data": {
            "text/html": [
              "<div>\n",
              "<style scoped>\n",
              "    .dataframe tbody tr th:only-of-type {\n",
              "        vertical-align: middle;\n",
              "    }\n",
              "\n",
              "    .dataframe tbody tr th {\n",
              "        vertical-align: top;\n",
              "    }\n",
              "\n",
              "    .dataframe thead th {\n",
              "        text-align: right;\n",
              "    }\n",
              "</style>\n",
              "<table border=\"1\" class=\"dataframe\">\n",
              "  <thead>\n",
              "    <tr style=\"text-align: right;\">\n",
              "      <th></th>\n",
              "      <th>country</th>\n",
              "      <th>date</th>\n",
              "      <th>parameter</th>\n",
              "      <th>air_quality</th>\n",
              "    </tr>\n",
              "  </thead>\n",
              "  <tbody>\n",
              "    <tr>\n",
              "      <th>0</th>\n",
              "      <td>AU</td>\n",
              "      <td>2020-03-01</td>\n",
              "      <td>neph</td>\n",
              "      <td>114.500000</td>\n",
              "    </tr>\n",
              "    <tr>\n",
              "      <th>1</th>\n",
              "      <td>AU</td>\n",
              "      <td>2020-03-01</td>\n",
              "      <td>aqi</td>\n",
              "      <td>97.000000</td>\n",
              "    </tr>\n",
              "    <tr>\n",
              "      <th>2</th>\n",
              "      <td>AU</td>\n",
              "      <td>2020-03-01</td>\n",
              "      <td>co</td>\n",
              "      <td>38.500000</td>\n",
              "    </tr>\n",
              "    <tr>\n",
              "      <th>3</th>\n",
              "      <td>AU</td>\n",
              "      <td>2020-03-01</td>\n",
              "      <td>o3</td>\n",
              "      <td>81.375000</td>\n",
              "    </tr>\n",
              "    <tr>\n",
              "      <th>4</th>\n",
              "      <td>AU</td>\n",
              "      <td>2020-03-01</td>\n",
              "      <td>wd</td>\n",
              "      <td>126.500000</td>\n",
              "    </tr>\n",
              "    <tr>\n",
              "      <th>...</th>\n",
              "      <td>...</td>\n",
              "      <td>...</td>\n",
              "      <td>...</td>\n",
              "      <td>...</td>\n",
              "    </tr>\n",
              "    <tr>\n",
              "      <th>7736</th>\n",
              "      <td>US</td>\n",
              "      <td>2020-06-30</td>\n",
              "      <td>pressure</td>\n",
              "      <td>104.571429</td>\n",
              "    </tr>\n",
              "    <tr>\n",
              "      <th>7737</th>\n",
              "      <td>US</td>\n",
              "      <td>2020-06-30</td>\n",
              "      <td>wind-gust</td>\n",
              "      <td>72.092593</td>\n",
              "    </tr>\n",
              "    <tr>\n",
              "      <th>7738</th>\n",
              "      <td>US</td>\n",
              "      <td>2020-06-30</td>\n",
              "      <td>wind-speed</td>\n",
              "      <td>78.946429</td>\n",
              "    </tr>\n",
              "    <tr>\n",
              "      <th>7739</th>\n",
              "      <td>US</td>\n",
              "      <td>2020-06-30</td>\n",
              "      <td>temperature</td>\n",
              "      <td>103.553571</td>\n",
              "    </tr>\n",
              "    <tr>\n",
              "      <th>7740</th>\n",
              "      <td>US</td>\n",
              "      <td>2020-06-30</td>\n",
              "      <td>precipitation</td>\n",
              "      <td>2.000000</td>\n",
              "    </tr>\n",
              "  </tbody>\n",
              "</table>\n",
              "<p>7741 rows × 4 columns</p>\n",
              "</div>"
            ],
            "text/plain": [
              "     country        date      parameter  air_quality\n",
              "0         AU  2020-03-01           neph   114.500000\n",
              "1         AU  2020-03-01            aqi    97.000000\n",
              "2         AU  2020-03-01             co    38.500000\n",
              "3         AU  2020-03-01             o3    81.375000\n",
              "4         AU  2020-03-01             wd   126.500000\n",
              "...      ...         ...            ...          ...\n",
              "7736      US  2020-06-30       pressure   104.571429\n",
              "7737      US  2020-06-30      wind-gust    72.092593\n",
              "7738      US  2020-06-30     wind-speed    78.946429\n",
              "7739      US  2020-06-30    temperature   103.553571\n",
              "7740      US  2020-06-30  precipitation     2.000000\n",
              "\n",
              "[7741 rows x 4 columns]"
            ]
          },
          "execution_count": 21,
          "metadata": {},
          "output_type": "execute_result"
        }
      ]
    },
    {
      "cell_type": "code",
      "metadata": {
        "id": "693f7d65",
        "outputId": "30c378ae-435b-434b-fe20-ac1e7c78dd4f"
      },
      "source": [
        "%%bigquery\n",
        "SELECT country, date, parameter, AVG(count) AS air_quality\n",
        "FROM `ba775-team2-b2.AQICN.air_quality_data`\n",
        "WHERE date BETWEEN '2020-01-23' AND '2020-04-08'\n",
        "AND country = 'CN'\n",
        "GROUP BY country, parameter, date\n",
        "ORDER BY date"
      ],
      "id": "693f7d65",
      "execution_count": null,
      "outputs": [
        {
          "name": "stderr",
          "output_type": "stream",
          "text": [
            "Query complete after 0.00s: 100%|██████████| 1/1 [00:00<00:00, 1015.32query/s]\n",
            "Downloading: 100%|██████████| 900/900 [00:01<00:00, 558.11rows/s]\n"
          ]
        },
        {
          "data": {
            "text/html": [
              "<div>\n",
              "<style scoped>\n",
              "    .dataframe tbody tr th:only-of-type {\n",
              "        vertical-align: middle;\n",
              "    }\n",
              "\n",
              "    .dataframe tbody tr th {\n",
              "        vertical-align: top;\n",
              "    }\n",
              "\n",
              "    .dataframe thead th {\n",
              "        text-align: right;\n",
              "    }\n",
              "</style>\n",
              "<table border=\"1\" class=\"dataframe\">\n",
              "  <thead>\n",
              "    <tr style=\"text-align: right;\">\n",
              "      <th></th>\n",
              "      <th>country</th>\n",
              "      <th>date</th>\n",
              "      <th>parameter</th>\n",
              "      <th>air_quality</th>\n",
              "    </tr>\n",
              "  </thead>\n",
              "  <tbody>\n",
              "    <tr>\n",
              "      <th>0</th>\n",
              "      <td>CN</td>\n",
              "      <td>2020-01-23</td>\n",
              "      <td>pol</td>\n",
              "      <td>11.000000</td>\n",
              "    </tr>\n",
              "    <tr>\n",
              "      <th>1</th>\n",
              "      <td>CN</td>\n",
              "      <td>2020-01-23</td>\n",
              "      <td>aqi</td>\n",
              "      <td>24.000000</td>\n",
              "    </tr>\n",
              "    <tr>\n",
              "      <th>2</th>\n",
              "      <td>CN</td>\n",
              "      <td>2020-01-23</td>\n",
              "      <td>co</td>\n",
              "      <td>230.423077</td>\n",
              "    </tr>\n",
              "    <tr>\n",
              "      <th>3</th>\n",
              "      <td>CN</td>\n",
              "      <td>2020-01-23</td>\n",
              "      <td>o3</td>\n",
              "      <td>226.913043</td>\n",
              "    </tr>\n",
              "    <tr>\n",
              "      <th>4</th>\n",
              "      <td>CN</td>\n",
              "      <td>2020-01-23</td>\n",
              "      <td>dew</td>\n",
              "      <td>141.039216</td>\n",
              "    </tr>\n",
              "    <tr>\n",
              "      <th>...</th>\n",
              "      <td>...</td>\n",
              "      <td>...</td>\n",
              "      <td>...</td>\n",
              "      <td>...</td>\n",
              "    </tr>\n",
              "    <tr>\n",
              "      <th>895</th>\n",
              "      <td>CN</td>\n",
              "      <td>2020-04-08</td>\n",
              "      <td>pressure</td>\n",
              "      <td>227.038462</td>\n",
              "    </tr>\n",
              "    <tr>\n",
              "      <th>896</th>\n",
              "      <td>CN</td>\n",
              "      <td>2020-04-08</td>\n",
              "      <td>wind-gust</td>\n",
              "      <td>109.272727</td>\n",
              "    </tr>\n",
              "    <tr>\n",
              "      <th>897</th>\n",
              "      <td>CN</td>\n",
              "      <td>2020-04-08</td>\n",
              "      <td>wind-speed</td>\n",
              "      <td>201.250000</td>\n",
              "    </tr>\n",
              "    <tr>\n",
              "      <th>898</th>\n",
              "      <td>CN</td>\n",
              "      <td>2020-04-08</td>\n",
              "      <td>temperature</td>\n",
              "      <td>227.038462</td>\n",
              "    </tr>\n",
              "    <tr>\n",
              "      <th>899</th>\n",
              "      <td>CN</td>\n",
              "      <td>2020-04-08</td>\n",
              "      <td>precipitation</td>\n",
              "      <td>16.800000</td>\n",
              "    </tr>\n",
              "  </tbody>\n",
              "</table>\n",
              "<p>900 rows × 4 columns</p>\n",
              "</div>"
            ],
            "text/plain": [
              "    country        date      parameter  air_quality\n",
              "0        CN  2020-01-23            pol    11.000000\n",
              "1        CN  2020-01-23            aqi    24.000000\n",
              "2        CN  2020-01-23             co   230.423077\n",
              "3        CN  2020-01-23             o3   226.913043\n",
              "4        CN  2020-01-23            dew   141.039216\n",
              "..      ...         ...            ...          ...\n",
              "895      CN  2020-04-08       pressure   227.038462\n",
              "896      CN  2020-04-08      wind-gust   109.272727\n",
              "897      CN  2020-04-08     wind-speed   201.250000\n",
              "898      CN  2020-04-08    temperature   227.038462\n",
              "899      CN  2020-04-08  precipitation    16.800000\n",
              "\n",
              "[900 rows x 4 columns]"
            ]
          },
          "execution_count": 22,
          "metadata": {},
          "output_type": "execute_result"
        }
      ]
    },
    {
      "cell_type": "markdown",
      "metadata": {
        "id": "e1e37a03"
      },
      "source": [
        "---"
      ],
      "id": "e1e37a03"
    },
    {
      "cell_type": "markdown",
      "metadata": {
        "id": "de412908"
      },
      "source": [
        "### VII: How did Air Quality change in countries with low COVID-19 cases (NZ, AUS, TW) and high COVID-19 cases (US, IT,CN)?\n",
        "This question was answered by creating separate tables that encompassed the equivalent lockdown periods per country for 2019. Then, the two tables were joined using the parameter and grouped according to country and parameter to create a subsequent table illustrating the percentage change in average pollution from 2019 to 2020 (during the respective lockdown periods). "
      ],
      "id": "de412908"
    },
    {
      "cell_type": "markdown",
      "metadata": {
        "id": "1713e7d0"
      },
      "source": [
        "#### 1. Countries with high COVID cases"
      ],
      "id": "1713e7d0"
    },
    {
      "cell_type": "code",
      "metadata": {
        "id": "4eecb25f",
        "outputId": "31499892-8cfc-4749-dd3f-c0061ed9f77a"
      },
      "source": [
        "%%bigquery\n",
        "CREATE OR REPLACE TABLE AQICN.air_quality2019_Italy AS\n",
        "    SELECT country, parameter, median AS air_quality2019 FROM `ba775-team2-b2.AQICN.air_quality_data`\n",
        "    WHERE date BETWEEN '2019-03-09' AND '2019-05-18'\n",
        "    AND country = 'IT'"
      ],
      "id": "4eecb25f",
      "execution_count": null,
      "outputs": [
        {
          "name": "stderr",
          "output_type": "stream",
          "text": [
            "Query complete after 0.01s: 100%|██████████| 3/3 [00:00<00:00, 1165.08query/s]                        \n"
          ]
        },
        {
          "data": {
            "text/html": [
              "<div>\n",
              "<style scoped>\n",
              "    .dataframe tbody tr th:only-of-type {\n",
              "        vertical-align: middle;\n",
              "    }\n",
              "\n",
              "    .dataframe tbody tr th {\n",
              "        vertical-align: top;\n",
              "    }\n",
              "\n",
              "    .dataframe thead th {\n",
              "        text-align: right;\n",
              "    }\n",
              "</style>\n",
              "<table border=\"1\" class=\"dataframe\">\n",
              "  <thead>\n",
              "    <tr style=\"text-align: right;\">\n",
              "      <th></th>\n",
              "    </tr>\n",
              "  </thead>\n",
              "  <tbody>\n",
              "  </tbody>\n",
              "</table>\n",
              "</div>"
            ],
            "text/plain": [
              "Empty DataFrame\n",
              "Columns: []\n",
              "Index: []"
            ]
          },
          "execution_count": 7,
          "metadata": {},
          "output_type": "execute_result"
        }
      ]
    },
    {
      "cell_type": "code",
      "metadata": {
        "id": "6291e799",
        "outputId": "29f768d3-68f8-45eb-a1ca-01e1d8131ea5"
      },
      "source": [
        "%%bigquery\n",
        "SELECT a2020.country, a2020.parameter, AVG(a2020.median) AS air_quality2020, AVG(air_quality2019) AS air_quality2019,\n",
        "    (AVG(a2020.median)-AVG(air_quality2019))/AVG(air_quality2019) AS percentage_change\n",
        "FROM `ba775-team2-b2.AQICN.air_quality_data` AS a2020\n",
        "LEFT JOIN AQICN.air_quality2019_Italy AS a2019\n",
        "USING(parameter)\n",
        "WHERE a2020.date BETWEEN '2020-03-09' AND '2020-05-18'\n",
        "AND a2020.country = 'IT'\n",
        "AND Parameter in ('pm25','pm10','o3','no2','co','so2')\n",
        "GROUP BY a2020.country, a2020.parameter\n",
        "ORDER BY percentage_change"
      ],
      "id": "6291e799",
      "execution_count": null,
      "outputs": [
        {
          "name": "stderr",
          "output_type": "stream",
          "text": [
            "Query complete after 0.00s: 100%|██████████| 4/4 [00:00<00:00, 2174.90query/s]                        \n",
            "Downloading: 100%|██████████| 6/6 [00:01<00:00,  3.91rows/s]\n"
          ]
        },
        {
          "data": {
            "text/html": [
              "<div>\n",
              "<style scoped>\n",
              "    .dataframe tbody tr th:only-of-type {\n",
              "        vertical-align: middle;\n",
              "    }\n",
              "\n",
              "    .dataframe tbody tr th {\n",
              "        vertical-align: top;\n",
              "    }\n",
              "\n",
              "    .dataframe thead th {\n",
              "        text-align: right;\n",
              "    }\n",
              "</style>\n",
              "<table border=\"1\" class=\"dataframe\">\n",
              "  <thead>\n",
              "    <tr style=\"text-align: right;\">\n",
              "      <th></th>\n",
              "      <th>country</th>\n",
              "      <th>parameter</th>\n",
              "      <th>air_quality2020</th>\n",
              "      <th>air_quality2019</th>\n",
              "      <th>percentage_change</th>\n",
              "    </tr>\n",
              "  </thead>\n",
              "  <tbody>\n",
              "    <tr>\n",
              "      <th>0</th>\n",
              "      <td>IT</td>\n",
              "      <td>no2</td>\n",
              "      <td>12.644602</td>\n",
              "      <td>19.677324</td>\n",
              "      <td>-0.357402</td>\n",
              "    </tr>\n",
              "    <tr>\n",
              "      <th>1</th>\n",
              "      <td>IT</td>\n",
              "      <td>co</td>\n",
              "      <td>0.518944</td>\n",
              "      <td>0.510526</td>\n",
              "      <td>0.016488</td>\n",
              "    </tr>\n",
              "    <tr>\n",
              "      <th>2</th>\n",
              "      <td>IT</td>\n",
              "      <td>pm10</td>\n",
              "      <td>19.708010</td>\n",
              "      <td>18.314506</td>\n",
              "      <td>0.076087</td>\n",
              "    </tr>\n",
              "    <tr>\n",
              "      <th>3</th>\n",
              "      <td>IT</td>\n",
              "      <td>o3</td>\n",
              "      <td>33.155354</td>\n",
              "      <td>29.901799</td>\n",
              "      <td>0.108808</td>\n",
              "    </tr>\n",
              "    <tr>\n",
              "      <th>4</th>\n",
              "      <td>IT</td>\n",
              "      <td>pm25</td>\n",
              "      <td>47.911137</td>\n",
              "      <td>42.977300</td>\n",
              "      <td>0.114801</td>\n",
              "    </tr>\n",
              "    <tr>\n",
              "      <th>5</th>\n",
              "      <td>IT</td>\n",
              "      <td>so2</td>\n",
              "      <td>1.778234</td>\n",
              "      <td>1.446649</td>\n",
              "      <td>0.229209</td>\n",
              "    </tr>\n",
              "  </tbody>\n",
              "</table>\n",
              "</div>"
            ],
            "text/plain": [
              "  country parameter  air_quality2020  air_quality2019  percentage_change\n",
              "0      IT       no2        12.644602        19.677324          -0.357402\n",
              "1      IT        co         0.518944         0.510526           0.016488\n",
              "2      IT      pm10        19.708010        18.314506           0.076087\n",
              "3      IT        o3        33.155354        29.901799           0.108808\n",
              "4      IT      pm25        47.911137        42.977300           0.114801\n",
              "5      IT       so2         1.778234         1.446649           0.229209"
            ]
          },
          "execution_count": 21,
          "metadata": {},
          "output_type": "execute_result"
        }
      ]
    },
    {
      "cell_type": "markdown",
      "metadata": {
        "id": "6a2ad601"
      },
      "source": [
        "Here we can see that the only pollutant that decreased during the 2020 lockdown in Italy, compared to the respective time period in 2019, was NO2, which decreased by 35.74%."
      ],
      "id": "6a2ad601"
    },
    {
      "cell_type": "code",
      "metadata": {
        "id": "d7237acd",
        "outputId": "3fb054bc-8527-4b73-f6b9-dd8f361d9697"
      },
      "source": [
        "%%bigquery\n",
        "CREATE OR REPLACE TABLE AQICN.air_quality2019_US AS\n",
        "    SELECT country, parameter, median AS air_quality2019 FROM `ba775-team2-b2.AQICN.air_quality_data`\n",
        "    WHERE date BETWEEN '2019-03-19' AND '2019-04-07'\n",
        "    AND country = 'US'"
      ],
      "id": "d7237acd",
      "execution_count": null,
      "outputs": [
        {
          "name": "stderr",
          "output_type": "stream",
          "text": [
            "Query complete after 0.00s: 100%|██████████| 3/3 [00:00<00:00, 1557.48query/s]                        \n"
          ]
        },
        {
          "data": {
            "text/html": [
              "<div>\n",
              "<style scoped>\n",
              "    .dataframe tbody tr th:only-of-type {\n",
              "        vertical-align: middle;\n",
              "    }\n",
              "\n",
              "    .dataframe tbody tr th {\n",
              "        vertical-align: top;\n",
              "    }\n",
              "\n",
              "    .dataframe thead th {\n",
              "        text-align: right;\n",
              "    }\n",
              "</style>\n",
              "<table border=\"1\" class=\"dataframe\">\n",
              "  <thead>\n",
              "    <tr style=\"text-align: right;\">\n",
              "      <th></th>\n",
              "    </tr>\n",
              "  </thead>\n",
              "  <tbody>\n",
              "  </tbody>\n",
              "</table>\n",
              "</div>"
            ],
            "text/plain": [
              "Empty DataFrame\n",
              "Columns: []\n",
              "Index: []"
            ]
          },
          "execution_count": 9,
          "metadata": {},
          "output_type": "execute_result"
        }
      ]
    },
    {
      "cell_type": "code",
      "metadata": {
        "id": "d0bc2ee4",
        "outputId": "6efc8ad5-9888-49d3-e84d-6de5ce452559"
      },
      "source": [
        "%%bigquery\n",
        "SELECT a2020.country, a2020.parameter, AVG(a2020.median) AS air_quality2020, AVG(air_quality2019) AS air_quality2019,\n",
        "    (AVG(a2020.median)-AVG(air_quality2019))/AVG(air_quality2019) AS percentage_change\n",
        "FROM `ba775-team2-b2.AQICN.air_quality_data` AS a2020\n",
        "LEFT JOIN AQICN.air_quality2019_US AS a2019\n",
        "USING(parameter)\n",
        "WHERE a2020.date BETWEEN '2020-03-19' AND '2020-04-07'\n",
        "AND a2020.country = 'US'\n",
        "AND Parameter in ('pm25','pm10','o3','no2','co','so2')\n",
        "GROUP BY a2020.country, a2020.parameter\n",
        "ORDER BY percentage_change"
      ],
      "id": "d0bc2ee4",
      "execution_count": null,
      "outputs": [
        {
          "name": "stderr",
          "output_type": "stream",
          "text": [
            "Query complete after 0.00s: 100%|██████████| 4/4 [00:00<00:00, 2138.31query/s]                        \n",
            "Downloading: 100%|██████████| 6/6 [00:01<00:00,  3.36rows/s]\n"
          ]
        },
        {
          "data": {
            "text/html": [
              "<div>\n",
              "<style scoped>\n",
              "    .dataframe tbody tr th:only-of-type {\n",
              "        vertical-align: middle;\n",
              "    }\n",
              "\n",
              "    .dataframe tbody tr th {\n",
              "        vertical-align: top;\n",
              "    }\n",
              "\n",
              "    .dataframe thead th {\n",
              "        text-align: right;\n",
              "    }\n",
              "</style>\n",
              "<table border=\"1\" class=\"dataframe\">\n",
              "  <thead>\n",
              "    <tr style=\"text-align: right;\">\n",
              "      <th></th>\n",
              "      <th>country</th>\n",
              "      <th>parameter</th>\n",
              "      <th>air_quality2020</th>\n",
              "      <th>air_quality2019</th>\n",
              "      <th>percentage_change</th>\n",
              "    </tr>\n",
              "  </thead>\n",
              "  <tbody>\n",
              "    <tr>\n",
              "      <th>0</th>\n",
              "      <td>US</td>\n",
              "      <td>o3</td>\n",
              "      <td>22.106296</td>\n",
              "      <td>34.918394</td>\n",
              "      <td>-0.366915</td>\n",
              "    </tr>\n",
              "    <tr>\n",
              "      <th>1</th>\n",
              "      <td>US</td>\n",
              "      <td>no2</td>\n",
              "      <td>6.098005</td>\n",
              "      <td>8.739054</td>\n",
              "      <td>-0.302212</td>\n",
              "    </tr>\n",
              "    <tr>\n",
              "      <th>2</th>\n",
              "      <td>US</td>\n",
              "      <td>so2</td>\n",
              "      <td>0.837192</td>\n",
              "      <td>1.162690</td>\n",
              "      <td>-0.279953</td>\n",
              "    </tr>\n",
              "    <tr>\n",
              "      <th>3</th>\n",
              "      <td>US</td>\n",
              "      <td>pm10</td>\n",
              "      <td>12.529652</td>\n",
              "      <td>15.349693</td>\n",
              "      <td>-0.183720</td>\n",
              "    </tr>\n",
              "    <tr>\n",
              "      <th>4</th>\n",
              "      <td>US</td>\n",
              "      <td>co</td>\n",
              "      <td>2.387150</td>\n",
              "      <td>2.632383</td>\n",
              "      <td>-0.093160</td>\n",
              "    </tr>\n",
              "    <tr>\n",
              "      <th>5</th>\n",
              "      <td>US</td>\n",
              "      <td>pm25</td>\n",
              "      <td>26.876242</td>\n",
              "      <td>28.994545</td>\n",
              "      <td>-0.073059</td>\n",
              "    </tr>\n",
              "  </tbody>\n",
              "</table>\n",
              "</div>"
            ],
            "text/plain": [
              "  country parameter  air_quality2020  air_quality2019  percentage_change\n",
              "0      US        o3        22.106296        34.918394          -0.366915\n",
              "1      US       no2         6.098005         8.739054          -0.302212\n",
              "2      US       so2         0.837192         1.162690          -0.279953\n",
              "3      US      pm10        12.529652        15.349693          -0.183720\n",
              "4      US        co         2.387150         2.632383          -0.093160\n",
              "5      US      pm25        26.876242        28.994545          -0.073059"
            ]
          },
          "execution_count": 22,
          "metadata": {},
          "output_type": "execute_result"
        }
      ]
    },
    {
      "cell_type": "markdown",
      "metadata": {
        "id": "73619b85"
      },
      "source": [
        "In the United States, all the pollutants decreased in 2020 compared to 2019. The largest changes occurred in O3, NO2 and SO2, which decreased by 36.69%, 30.22%, and 27.10% respectively. This indicates that the lockdowns during the COVID-19 pandemic may have positively affected the emission of pollutants in the United States. "
      ],
      "id": "73619b85"
    },
    {
      "cell_type": "code",
      "metadata": {
        "id": "b50c7227",
        "outputId": "be65fece-1a2b-4e75-92b3-dcfbf93e66ce"
      },
      "source": [
        "%%bigquery\n",
        "CREATE OR REPLACE TABLE AQICN.air_quality2019_China AS\n",
        "    SELECT country, parameter, median AS air_quality2019 FROM `ba775-team2-b2.AQICN.air_quality_data`\n",
        "    WHERE date BETWEEN '2019-01-23' AND '2019-04-08'\n",
        "    AND country = 'CN'"
      ],
      "id": "b50c7227",
      "execution_count": null,
      "outputs": [
        {
          "name": "stderr",
          "output_type": "stream",
          "text": [
            "Query complete after 0.00s: 100%|██████████| 3/3 [00:00<00:00, 1746.17query/s]                        \n"
          ]
        },
        {
          "data": {
            "text/html": [
              "<div>\n",
              "<style scoped>\n",
              "    .dataframe tbody tr th:only-of-type {\n",
              "        vertical-align: middle;\n",
              "    }\n",
              "\n",
              "    .dataframe tbody tr th {\n",
              "        vertical-align: top;\n",
              "    }\n",
              "\n",
              "    .dataframe thead th {\n",
              "        text-align: right;\n",
              "    }\n",
              "</style>\n",
              "<table border=\"1\" class=\"dataframe\">\n",
              "  <thead>\n",
              "    <tr style=\"text-align: right;\">\n",
              "      <th></th>\n",
              "    </tr>\n",
              "  </thead>\n",
              "  <tbody>\n",
              "  </tbody>\n",
              "</table>\n",
              "</div>"
            ],
            "text/plain": [
              "Empty DataFrame\n",
              "Columns: []\n",
              "Index: []"
            ]
          },
          "execution_count": 11,
          "metadata": {},
          "output_type": "execute_result"
        }
      ]
    },
    {
      "cell_type": "code",
      "metadata": {
        "id": "b51c8e1e",
        "outputId": "ea7c1d98-54af-4765-caf7-593cb3265d76"
      },
      "source": [
        "%%bigquery\n",
        "SELECT a2020.country, a2020.parameter, AVG(a2020.median) AS air_quality2020, AVG(air_quality2019) AS air_quality2019,\n",
        "    (AVG(a2020.median)-AVG(air_quality2019))/AVG(air_quality2019) AS percentage_change\n",
        "FROM `ba775-team2-b2.AQICN.air_quality_data` AS a2020\n",
        "LEFT JOIN AQICN.air_quality2019_China AS a2019\n",
        "USING(parameter)\n",
        "WHERE a2020.date BETWEEN '2020-01-23' AND '2020-04-08'\n",
        "AND a2020.country = 'CN'\n",
        "AND Parameter in ('pm25','pm10','o3','no2','co','so2')\n",
        "GROUP BY a2020.country, a2020.parameter\n",
        "ORDER BY percentage_change"
      ],
      "id": "b51c8e1e",
      "execution_count": null,
      "outputs": [
        {
          "name": "stderr",
          "output_type": "stream",
          "text": [
            "Query complete after 0.00s: 100%|██████████| 4/4 [00:00<00:00, 1981.72query/s]                        \n",
            "Downloading: 100%|██████████| 6/6 [00:01<00:00,  4.01rows/s]\n"
          ]
        },
        {
          "data": {
            "text/html": [
              "<div>\n",
              "<style scoped>\n",
              "    .dataframe tbody tr th:only-of-type {\n",
              "        vertical-align: middle;\n",
              "    }\n",
              "\n",
              "    .dataframe tbody tr th {\n",
              "        vertical-align: top;\n",
              "    }\n",
              "\n",
              "    .dataframe thead th {\n",
              "        text-align: right;\n",
              "    }\n",
              "</style>\n",
              "<table border=\"1\" class=\"dataframe\">\n",
              "  <thead>\n",
              "    <tr style=\"text-align: right;\">\n",
              "      <th></th>\n",
              "      <th>country</th>\n",
              "      <th>parameter</th>\n",
              "      <th>air_quality2020</th>\n",
              "      <th>air_quality2019</th>\n",
              "      <th>percentage_change</th>\n",
              "    </tr>\n",
              "  </thead>\n",
              "  <tbody>\n",
              "    <tr>\n",
              "      <th>0</th>\n",
              "      <td>CN</td>\n",
              "      <td>no2</td>\n",
              "      <td>10.738755</td>\n",
              "      <td>15.535772</td>\n",
              "      <td>-0.308772</td>\n",
              "    </tr>\n",
              "    <tr>\n",
              "      <th>1</th>\n",
              "      <td>CN</td>\n",
              "      <td>pm10</td>\n",
              "      <td>47.729418</td>\n",
              "      <td>59.286582</td>\n",
              "      <td>-0.194937</td>\n",
              "    </tr>\n",
              "    <tr>\n",
              "      <th>2</th>\n",
              "      <td>CN</td>\n",
              "      <td>so2</td>\n",
              "      <td>4.703238</td>\n",
              "      <td>5.817949</td>\n",
              "      <td>-0.191599</td>\n",
              "    </tr>\n",
              "    <tr>\n",
              "      <th>3</th>\n",
              "      <td>CN</td>\n",
              "      <td>co</td>\n",
              "      <td>6.528790</td>\n",
              "      <td>7.537038</td>\n",
              "      <td>-0.133772</td>\n",
              "    </tr>\n",
              "    <tr>\n",
              "      <th>4</th>\n",
              "      <td>CN</td>\n",
              "      <td>pm25</td>\n",
              "      <td>97.900100</td>\n",
              "      <td>112.806582</td>\n",
              "      <td>-0.132142</td>\n",
              "    </tr>\n",
              "    <tr>\n",
              "      <th>5</th>\n",
              "      <td>CN</td>\n",
              "      <td>o3</td>\n",
              "      <td>25.110255</td>\n",
              "      <td>22.837017</td>\n",
              "      <td>0.099542</td>\n",
              "    </tr>\n",
              "  </tbody>\n",
              "</table>\n",
              "</div>"
            ],
            "text/plain": [
              "  country parameter  air_quality2020  air_quality2019  percentage_change\n",
              "0      CN       no2        10.738755        15.535772          -0.308772\n",
              "1      CN      pm10        47.729418        59.286582          -0.194937\n",
              "2      CN       so2         4.703238         5.817949          -0.191599\n",
              "3      CN        co         6.528790         7.537038          -0.133772\n",
              "4      CN      pm25        97.900100       112.806582          -0.132142\n",
              "5      CN        o3        25.110255        22.837017           0.099542"
            ]
          },
          "execution_count": 23,
          "metadata": {},
          "output_type": "execute_result"
        }
      ]
    },
    {
      "cell_type": "markdown",
      "metadata": {
        "id": "dc9d8d91"
      },
      "source": [
        "In China, most pollutants decreased in 2020 compared to the same period in 2019. The largest change was in NO2 which decreased by 30.88% compared to the previous year."
      ],
      "id": "dc9d8d91"
    },
    {
      "cell_type": "markdown",
      "metadata": {
        "id": "6fbdc612"
      },
      "source": [
        "#### 2. Countries with low COVID cases"
      ],
      "id": "6fbdc612"
    },
    {
      "cell_type": "code",
      "metadata": {
        "id": "8e1db971",
        "outputId": "079b4c6c-af13-4709-ef1d-0a84a8224221"
      },
      "source": [
        "%%bigquery\n",
        "CREATE OR REPLACE TABLE AQICN.air_quality2019_Taiwan AS\n",
        "    SELECT country, parameter, median AS air_quality2019 FROM `ba775-team2-b2.AQICN.air_quality_data`\n",
        "    WHERE EXTRACT(month FROM date) = 07\n",
        "    AND EXTRACT(year FROM date) = 2019\n",
        "    AND country = 'TW'"
      ],
      "id": "8e1db971",
      "execution_count": null,
      "outputs": [
        {
          "name": "stderr",
          "output_type": "stream",
          "text": [
            "Query complete after 0.00s: 100%|██████████| 3/3 [00:00<00:00, 1918.71query/s]                        \n"
          ]
        },
        {
          "data": {
            "text/html": [
              "<div>\n",
              "<style scoped>\n",
              "    .dataframe tbody tr th:only-of-type {\n",
              "        vertical-align: middle;\n",
              "    }\n",
              "\n",
              "    .dataframe tbody tr th {\n",
              "        vertical-align: top;\n",
              "    }\n",
              "\n",
              "    .dataframe thead th {\n",
              "        text-align: right;\n",
              "    }\n",
              "</style>\n",
              "<table border=\"1\" class=\"dataframe\">\n",
              "  <thead>\n",
              "    <tr style=\"text-align: right;\">\n",
              "      <th></th>\n",
              "    </tr>\n",
              "  </thead>\n",
              "  <tbody>\n",
              "  </tbody>\n",
              "</table>\n",
              "</div>"
            ],
            "text/plain": [
              "Empty DataFrame\n",
              "Columns: []\n",
              "Index: []"
            ]
          },
          "execution_count": 13,
          "metadata": {},
          "output_type": "execute_result"
        }
      ]
    },
    {
      "cell_type": "code",
      "metadata": {
        "id": "33cefa9a",
        "outputId": "a2975cb3-7b89-444c-a0b7-66c0a7f395a4"
      },
      "source": [
        "%%bigquery\n",
        "SELECT a2020.country, a2020.parameter, AVG(a2020.median) AS air_quality2020, AVG(air_quality2019) AS air_quality2019,\n",
        "    (AVG(a2020.median)-AVG(air_quality2019))/AVG(air_quality2019) AS percentage_change\n",
        "FROM `ba775-team2-b2.AQICN.air_quality_data` AS a2020\n",
        "LEFT JOIN AQICN.air_quality2019_Taiwan AS a2019\n",
        "USING(parameter)\n",
        "WHERE EXTRACT(month FROM a2020.date) = 07\n",
        "AND EXTRACT(year FROM a2020.date) = 2020\n",
        "AND a2020.country = 'TW'\n",
        "AND Parameter in ('pm25','pm10','o3','no2','co','so2')\n",
        "GROUP BY a2020.country, a2020.parameter\n",
        "ORDER BY percentage_change"
      ],
      "id": "33cefa9a",
      "execution_count": null,
      "outputs": [
        {
          "name": "stderr",
          "output_type": "stream",
          "text": [
            "Query complete after 0.00s: 100%|██████████| 4/4 [00:00<00:00, 1830.37query/s]                        \n",
            "Downloading: 100%|██████████| 6/6 [00:01<00:00,  4.02rows/s]\n"
          ]
        },
        {
          "data": {
            "text/html": [
              "<div>\n",
              "<style scoped>\n",
              "    .dataframe tbody tr th:only-of-type {\n",
              "        vertical-align: middle;\n",
              "    }\n",
              "\n",
              "    .dataframe tbody tr th {\n",
              "        vertical-align: top;\n",
              "    }\n",
              "\n",
              "    .dataframe thead th {\n",
              "        text-align: right;\n",
              "    }\n",
              "</style>\n",
              "<table border=\"1\" class=\"dataframe\">\n",
              "  <thead>\n",
              "    <tr style=\"text-align: right;\">\n",
              "      <th></th>\n",
              "      <th>country</th>\n",
              "      <th>parameter</th>\n",
              "      <th>air_quality2020</th>\n",
              "      <th>air_quality2019</th>\n",
              "      <th>percentage_change</th>\n",
              "    </tr>\n",
              "  </thead>\n",
              "  <tbody>\n",
              "    <tr>\n",
              "      <th>0</th>\n",
              "      <td>TW</td>\n",
              "      <td>pm25</td>\n",
              "      <td>29.458781</td>\n",
              "      <td>41.387097</td>\n",
              "      <td>-0.288213</td>\n",
              "    </tr>\n",
              "    <tr>\n",
              "      <th>1</th>\n",
              "      <td>TW</td>\n",
              "      <td>pm10</td>\n",
              "      <td>16.777778</td>\n",
              "      <td>20.183453</td>\n",
              "      <td>-0.168736</td>\n",
              "    </tr>\n",
              "    <tr>\n",
              "      <th>2</th>\n",
              "      <td>TW</td>\n",
              "      <td>so2</td>\n",
              "      <td>2.647670</td>\n",
              "      <td>3.126165</td>\n",
              "      <td>-0.153061</td>\n",
              "    </tr>\n",
              "    <tr>\n",
              "      <th>3</th>\n",
              "      <td>TW</td>\n",
              "      <td>o3</td>\n",
              "      <td>13.734767</td>\n",
              "      <td>15.151254</td>\n",
              "      <td>-0.093490</td>\n",
              "    </tr>\n",
              "    <tr>\n",
              "      <th>4</th>\n",
              "      <td>TW</td>\n",
              "      <td>no2</td>\n",
              "      <td>6.240143</td>\n",
              "      <td>6.476703</td>\n",
              "      <td>-0.036525</td>\n",
              "    </tr>\n",
              "    <tr>\n",
              "      <th>5</th>\n",
              "      <td>TW</td>\n",
              "      <td>co</td>\n",
              "      <td>2.445878</td>\n",
              "      <td>2.480935</td>\n",
              "      <td>-0.014131</td>\n",
              "    </tr>\n",
              "  </tbody>\n",
              "</table>\n",
              "</div>"
            ],
            "text/plain": [
              "  country parameter  air_quality2020  air_quality2019  percentage_change\n",
              "0      TW      pm25        29.458781        41.387097          -0.288213\n",
              "1      TW      pm10        16.777778        20.183453          -0.168736\n",
              "2      TW       so2         2.647670         3.126165          -0.153061\n",
              "3      TW        o3        13.734767        15.151254          -0.093490\n",
              "4      TW       no2         6.240143         6.476703          -0.036525\n",
              "5      TW        co         2.445878         2.480935          -0.014131"
            ]
          },
          "execution_count": 24,
          "metadata": {},
          "output_type": "execute_result"
        }
      ]
    },
    {
      "cell_type": "markdown",
      "metadata": {
        "id": "c39280e4"
      },
      "source": [
        "Taiwan, which did not experience lockdowns due to COVID-19, also shows a decrease in all pollutant levels. This contradicts our initially hypothesis that countries who experienced more COVID-19 and therefore more lockdowns would have better air quality. "
      ],
      "id": "c39280e4"
    },
    {
      "cell_type": "code",
      "metadata": {
        "id": "6c9eabfd",
        "outputId": "8ccb56f4-f037-472c-8a0c-ab8cba28a7a1"
      },
      "source": [
        "%%bigquery\n",
        "CREATE OR REPLACE TABLE AQICN.air_quality2019_AUS AS\n",
        "    SELECT country, parameter, median AS air_quality2019 FROM `ba775-team2-b2.AQICN.air_quality_data`\n",
        "    WHERE date BETWEEN '2019-03-25' AND '2019-05-31'\n",
        "    AND country = 'NZ'"
      ],
      "id": "6c9eabfd",
      "execution_count": null,
      "outputs": [
        {
          "name": "stderr",
          "output_type": "stream",
          "text": [
            "Query complete after 0.00s: 100%|██████████| 3/3 [00:00<00:00, 1679.29query/s]                        \n"
          ]
        },
        {
          "data": {
            "text/html": [
              "<div>\n",
              "<style scoped>\n",
              "    .dataframe tbody tr th:only-of-type {\n",
              "        vertical-align: middle;\n",
              "    }\n",
              "\n",
              "    .dataframe tbody tr th {\n",
              "        vertical-align: top;\n",
              "    }\n",
              "\n",
              "    .dataframe thead th {\n",
              "        text-align: right;\n",
              "    }\n",
              "</style>\n",
              "<table border=\"1\" class=\"dataframe\">\n",
              "  <thead>\n",
              "    <tr style=\"text-align: right;\">\n",
              "      <th></th>\n",
              "    </tr>\n",
              "  </thead>\n",
              "  <tbody>\n",
              "  </tbody>\n",
              "</table>\n",
              "</div>"
            ],
            "text/plain": [
              "Empty DataFrame\n",
              "Columns: []\n",
              "Index: []"
            ]
          },
          "execution_count": 18,
          "metadata": {},
          "output_type": "execute_result"
        }
      ]
    },
    {
      "cell_type": "code",
      "metadata": {
        "id": "a5dec4e5",
        "outputId": "9bb5f5af-1c1f-496d-f250-617b835b6178"
      },
      "source": [
        "%%bigquery\n",
        "SELECT a2020.country, a2020.parameter, AVG(a2020.median) AS air_quality2020, AVG(air_quality2019) AS air_quality2019,\n",
        "    (AVG(a2020.median)-AVG(air_quality2019))/AVG(air_quality2019) AS percentage_change\n",
        "FROM `ba775-team2-b2.AQICN.air_quality_data` AS a2020\n",
        "LEFT JOIN AQICN.air_quality2019_NZ AS a2019\n",
        "USING(parameter)\n",
        "WHERE a2020.date BETWEEN '2020-03-25' AND '2020-05-31'\n",
        "AND Parameter in ('pm25','pm10','o3','no2','co','so2')\n",
        "AND a2020.country = 'NZ'\n",
        "GROUP BY a2020.country, a2020.parameter\n",
        "ORDER BY percentage_change"
      ],
      "id": "a5dec4e5",
      "execution_count": null,
      "outputs": [
        {
          "name": "stderr",
          "output_type": "stream",
          "text": [
            "Query complete after 0.00s: 100%|██████████| 4/4 [00:00<00:00, 2199.14query/s]                        \n",
            "Downloading: 100%|██████████| 5/5 [00:01<00:00,  3.27rows/s]\n"
          ]
        },
        {
          "data": {
            "text/html": [
              "<div>\n",
              "<style scoped>\n",
              "    .dataframe tbody tr th:only-of-type {\n",
              "        vertical-align: middle;\n",
              "    }\n",
              "\n",
              "    .dataframe tbody tr th {\n",
              "        vertical-align: top;\n",
              "    }\n",
              "\n",
              "    .dataframe thead th {\n",
              "        text-align: right;\n",
              "    }\n",
              "</style>\n",
              "<table border=\"1\" class=\"dataframe\">\n",
              "  <thead>\n",
              "    <tr style=\"text-align: right;\">\n",
              "      <th></th>\n",
              "      <th>country</th>\n",
              "      <th>parameter</th>\n",
              "      <th>air_quality2020</th>\n",
              "      <th>air_quality2019</th>\n",
              "      <th>percentage_change</th>\n",
              "    </tr>\n",
              "  </thead>\n",
              "  <tbody>\n",
              "    <tr>\n",
              "      <th>0</th>\n",
              "      <td>NZ</td>\n",
              "      <td>so2</td>\n",
              "      <td>0.797778</td>\n",
              "      <td>28.130769</td>\n",
              "      <td>-0.971640</td>\n",
              "    </tr>\n",
              "    <tr>\n",
              "      <th>1</th>\n",
              "      <td>NZ</td>\n",
              "      <td>no2</td>\n",
              "      <td>2.657353</td>\n",
              "      <td>76.432836</td>\n",
              "      <td>-0.965233</td>\n",
              "    </tr>\n",
              "    <tr>\n",
              "      <th>2</th>\n",
              "      <td>NZ</td>\n",
              "      <td>co</td>\n",
              "      <td>3.272059</td>\n",
              "      <td>63.716418</td>\n",
              "      <td>-0.948647</td>\n",
              "    </tr>\n",
              "    <tr>\n",
              "      <th>3</th>\n",
              "      <td>NZ</td>\n",
              "      <td>pm10</td>\n",
              "      <td>11.835784</td>\n",
              "      <td>79.049261</td>\n",
              "      <td>-0.850273</td>\n",
              "    </tr>\n",
              "    <tr>\n",
              "      <th>4</th>\n",
              "      <td>NZ</td>\n",
              "      <td>pm25</td>\n",
              "      <td>26.519608</td>\n",
              "      <td>53.019900</td>\n",
              "      <td>-0.499818</td>\n",
              "    </tr>\n",
              "  </tbody>\n",
              "</table>\n",
              "</div>"
            ],
            "text/plain": [
              "  country parameter  air_quality2020  air_quality2019  percentage_change\n",
              "0      NZ       so2         0.797778        28.130769          -0.971640\n",
              "1      NZ       no2         2.657353        76.432836          -0.965233\n",
              "2      NZ        co         3.272059        63.716418          -0.948647\n",
              "3      NZ      pm10        11.835784        79.049261          -0.850273\n",
              "4      NZ      pm25        26.519608        53.019900          -0.499818"
            ]
          },
          "execution_count": 25,
          "metadata": {},
          "output_type": "execute_result"
        }
      ]
    },
    {
      "cell_type": "markdown",
      "metadata": {
        "id": "866af931"
      },
      "source": [
        "New Zealand also shows a decrease in all pollutant levels. Nevertheless, New Zealand did go into lockdown for a period and these numbers may reflect the lessened activity due to COVID-19 during that time compared to the equivalent in 2019. "
      ],
      "id": "866af931"
    },
    {
      "cell_type": "code",
      "metadata": {
        "id": "847f6ee9",
        "outputId": "2040873a-1305-4084-e169-5995f2ae6f3f"
      },
      "source": [
        "%%bigquery\n",
        "CREATE OR REPLACE TABLE AQICN.air_quality2019_AUS AS\n",
        "    SELECT country, parameter, median AS air_quality2019 FROM `ba775-team2-b2.AQICN.air_quality_data`\n",
        "    WHERE date BETWEEN '2019-03-18' AND '2019-05-31'\n",
        "    AND country = 'AU'"
      ],
      "id": "847f6ee9",
      "execution_count": null,
      "outputs": [
        {
          "name": "stderr",
          "output_type": "stream",
          "text": [
            "Query complete after 0.00s: 100%|██████████| 3/3 [00:00<00:00, 1443.66query/s]                        \n"
          ]
        },
        {
          "data": {
            "text/html": [
              "<div>\n",
              "<style scoped>\n",
              "    .dataframe tbody tr th:only-of-type {\n",
              "        vertical-align: middle;\n",
              "    }\n",
              "\n",
              "    .dataframe tbody tr th {\n",
              "        vertical-align: top;\n",
              "    }\n",
              "\n",
              "    .dataframe thead th {\n",
              "        text-align: right;\n",
              "    }\n",
              "</style>\n",
              "<table border=\"1\" class=\"dataframe\">\n",
              "  <thead>\n",
              "    <tr style=\"text-align: right;\">\n",
              "      <th></th>\n",
              "    </tr>\n",
              "  </thead>\n",
              "  <tbody>\n",
              "  </tbody>\n",
              "</table>\n",
              "</div>"
            ],
            "text/plain": [
              "Empty DataFrame\n",
              "Columns: []\n",
              "Index: []"
            ]
          },
          "execution_count": 20,
          "metadata": {},
          "output_type": "execute_result"
        }
      ]
    },
    {
      "cell_type": "code",
      "metadata": {
        "id": "b9a36d0e",
        "outputId": "0d217d7e-0661-4888-be56-09f660e90eeb"
      },
      "source": [
        "%%bigquery\n",
        "SELECT a2020.country, a2020.parameter, AVG(a2020.median) AS air_quality2020, AVG(air_quality2019) AS air_quality2019,\n",
        "    (AVG(a2020.median)-AVG(air_quality2019))/AVG(air_quality2019) AS percentage_change\n",
        "FROM `ba775-team2-b2.AQICN.air_quality_data` AS a2020\n",
        "LEFT JOIN AQICN.air_quality2019_AUS AS a2019\n",
        "USING(parameter)\n",
        "WHERE a2020.date BETWEEN '2020-03-18' AND '2020-05-31'\n",
        "AND Parameter in ('pm25','pm10','o3','no2','co','so2')\n",
        "AND a2020.country = 'AU'\n",
        "GROUP BY a2020.country, a2020.parameter\n",
        "ORDER BY percentage_change"
      ],
      "id": "b9a36d0e",
      "execution_count": null,
      "outputs": [
        {
          "name": "stderr",
          "output_type": "stream",
          "text": [
            "Query complete after 0.00s: 100%|██████████| 4/4 [00:00<00:00, 2131.79query/s]                        \n",
            "Downloading: 100%|██████████| 6/6 [00:01<00:00,  4.52rows/s]\n"
          ]
        },
        {
          "data": {
            "text/html": [
              "<div>\n",
              "<style scoped>\n",
              "    .dataframe tbody tr th:only-of-type {\n",
              "        vertical-align: middle;\n",
              "    }\n",
              "\n",
              "    .dataframe tbody tr th {\n",
              "        vertical-align: top;\n",
              "    }\n",
              "\n",
              "    .dataframe thead th {\n",
              "        text-align: right;\n",
              "    }\n",
              "</style>\n",
              "<table border=\"1\" class=\"dataframe\">\n",
              "  <thead>\n",
              "    <tr style=\"text-align: right;\">\n",
              "      <th></th>\n",
              "      <th>country</th>\n",
              "      <th>parameter</th>\n",
              "      <th>air_quality2020</th>\n",
              "      <th>air_quality2019</th>\n",
              "      <th>percentage_change</th>\n",
              "    </tr>\n",
              "  </thead>\n",
              "  <tbody>\n",
              "    <tr>\n",
              "      <th>0</th>\n",
              "      <td>AU</td>\n",
              "      <td>pm25</td>\n",
              "      <td>21.228606</td>\n",
              "      <td>23.831293</td>\n",
              "      <td>-0.109213</td>\n",
              "    </tr>\n",
              "    <tr>\n",
              "      <th>1</th>\n",
              "      <td>AU</td>\n",
              "      <td>so2</td>\n",
              "      <td>1.392407</td>\n",
              "      <td>1.554440</td>\n",
              "      <td>-0.104239</td>\n",
              "    </tr>\n",
              "    <tr>\n",
              "      <th>2</th>\n",
              "      <td>AU</td>\n",
              "      <td>pm10</td>\n",
              "      <td>12.569682</td>\n",
              "      <td>13.455782</td>\n",
              "      <td>-0.065853</td>\n",
              "    </tr>\n",
              "    <tr>\n",
              "      <th>3</th>\n",
              "      <td>AU</td>\n",
              "      <td>no2</td>\n",
              "      <td>4.620783</td>\n",
              "      <td>4.650598</td>\n",
              "      <td>-0.006411</td>\n",
              "    </tr>\n",
              "    <tr>\n",
              "      <th>4</th>\n",
              "      <td>AU</td>\n",
              "      <td>co</td>\n",
              "      <td>2.278157</td>\n",
              "      <td>2.132509</td>\n",
              "      <td>0.068299</td>\n",
              "    </tr>\n",
              "    <tr>\n",
              "      <th>5</th>\n",
              "      <td>AU</td>\n",
              "      <td>o3</td>\n",
              "      <td>10.257311</td>\n",
              "      <td>7.095214</td>\n",
              "      <td>0.445666</td>\n",
              "    </tr>\n",
              "  </tbody>\n",
              "</table>\n",
              "</div>"
            ],
            "text/plain": [
              "  country parameter  air_quality2020  air_quality2019  percentage_change\n",
              "0      AU      pm25        21.228606        23.831293          -0.109213\n",
              "1      AU       so2         1.392407         1.554440          -0.104239\n",
              "2      AU      pm10        12.569682        13.455782          -0.065853\n",
              "3      AU       no2         4.620783         4.650598          -0.006411\n",
              "4      AU        co         2.278157         2.132509           0.068299\n",
              "5      AU        o3        10.257311         7.095214           0.445666"
            ]
          },
          "execution_count": 26,
          "metadata": {},
          "output_type": "execute_result"
        }
      ]
    },
    {
      "cell_type": "markdown",
      "metadata": {
        "id": "0b95b55f"
      },
      "source": [
        "Australia shows decreases in most pollutant parameter levels in 2020 compared to respective periods in 2019. "
      ],
      "id": "0b95b55f"
    },
    {
      "cell_type": "markdown",
      "metadata": {
        "id": "1332ad0e"
      },
      "source": [
        "The fact that all tables illustrate decrease in most pollutant parameter levels, except for Italy, seems to contradict our initial hypothesis. Initially, we hypothesized that in countries where COVID-19 was more prevalent, and therefore where there were more lockdowns and less human activity, there would be better pollutant levels. However, when looking at the results of the analysis, one can see that the extent to which COVID-19 was prevalent does not seem to largely affect the pollutant parameter levels considering that regardless of the country they seem to have decreased in 2020 compared to 2019. This may be due to various governmental and public policies regarding climate change that have pushed countries to improve the air quality as well as the general decrease in human activity worldwide due to the pandemic."
      ],
      "id": "1332ad0e"
    },
    {
      "cell_type": "markdown",
      "metadata": {
        "id": "6232f629"
      },
      "source": [
        "---"
      ],
      "id": "6232f629"
    },
    {
      "cell_type": "markdown",
      "metadata": {
        "id": "4004cfba"
      },
      "source": [
        "### VIII: Conclusion"
      ],
      "id": "4004cfba"
    },
    {
      "cell_type": "markdown",
      "metadata": {
        "id": "33af4f53"
      },
      "source": [
        "In this project, we used air quality index (AQI) dataset among 380 major cities across the world from 2019 to 2020 to study criteria air pollutant level changes during the COVID pandemic. According to the result, we conclude that the COVID impacts air quality more at regional-level than at global-level, more in a relative short period of time than in a relative long-term. Even though we don't see a strong relationship between air quality changes versus numbers of confirmed COIVD case, we find that lockdowns during the pandemic do make effects on air pollutant levels in different countries due to reduced outdoor human activities."
      ],
      "id": "33af4f53"
    },
    {
      "cell_type": "markdown",
      "metadata": {
        "id": "b8cc2b93"
      },
      "source": [
        "---"
      ],
      "id": "b8cc2b93"
    },
    {
      "cell_type": "markdown",
      "metadata": {
        "id": "f2d8e036"
      },
      "source": [
        "### IX: Public Tableau Dashboards\n",
        "\n",
        "To interact with our public Tableau dashboards please visit: https://public.tableau.com/app/profile/arpit.jain7335/viz/AnalyzingAirQualityDuringCOVID19Pandemic/AirQualityGlobalLevel?publish=yes"
      ],
      "id": "f2d8e036"
    },
    {
      "cell_type": "markdown",
      "metadata": {
        "id": "6d9bfef6"
      },
      "source": [
        "<img src=\"https://github.com/arp-jain/BA775-team2-b2/blob/main/Air%20Quality%20Global%20Level.png?raw=true\" align=\"center\"/>"
      ],
      "id": "6d9bfef6"
    },
    {
      "cell_type": "markdown",
      "metadata": {
        "id": "d23790da"
      },
      "source": [
        "<img src=\"https://github.com/arp-jain/BA775-team2-b2/blob/main/Air%20Quality%20City%20Level.png?raw=true\" align=\"center\"/>"
      ],
      "id": "d23790da"
    }
  ]
}